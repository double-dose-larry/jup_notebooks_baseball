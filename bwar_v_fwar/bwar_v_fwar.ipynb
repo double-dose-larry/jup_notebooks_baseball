{
 "cells": [
  {
   "cell_type": "code",
   "execution_count": null,
   "metadata": {},
   "outputs": [],
   "source": [
    "import pybaseball as pb\n",
    "import pandas as pd\n",
    "import altair as alt"
   ]
  },
  {
   "cell_type": "code",
   "execution_count": null,
   "metadata": {},
   "outputs": [],
   "source": [
    "def get_bwar(year=2021):\n",
    "    df = pb.bwar_bat().query('year_ID == 2021')\n",
    "    df = df.groupby([\"player_ID\", \"year_ID\", \"name_common\"])[\"WAR\"].sum().reset_index()\n",
    "    df.columns = [\"IDbref\", \"Season\", \"Name\", \"bWAR\"]\n",
    "    return df\n",
    "    \n",
    "\n",
    "def get_fwar(year=2021):\n",
    "    df = pb.batting_stats(year, qual = 0)\n",
    "    df = df.rename({\"WAR\" : \"fWAR\"}, axis=1)\n",
    "    \n",
    "    return df[[\"IDfg\", \"fWAR\"]]"
   ]
  },
  {
   "cell_type": "code",
   "execution_count": null,
   "metadata": {},
   "outputs": [],
   "source": [
    "get_bwar()"
   ]
  },
  {
   "cell_type": "code",
   "execution_count": null,
   "metadata": {},
   "outputs": [],
   "source": [
    "get_bwar()"
   ]
  },
  {
   "cell_type": "code",
   "execution_count": null,
   "metadata": {},
   "outputs": [],
   "source": [
    "fwar = get_fwar()"
   ]
  },
  {
   "cell_type": "code",
   "execution_count": null,
   "metadata": {},
   "outputs": [],
   "source": [
    "id_df = pb.playerid_reverse_lookup(fwar.IDfg, key_type=\"fangraphs\")[[\"key_fangraphs\", \"key_bbref\"]]"
   ]
  },
  {
   "cell_type": "code",
   "execution_count": null,
   "metadata": {},
   "outputs": [],
   "source": [
    "fwar_with_ids = fwar.merge(id_df,\n",
    "           left_on=\"IDfg\",\n",
    "           right_on=\"key_fangraphs\")"
   ]
  },
  {
   "cell_type": "code",
   "execution_count": null,
   "metadata": {},
   "outputs": [],
   "source": [
    "fwar_bwar = fwar_with_ids.merge(\n",
    "    get_bwar(),\n",
    "    left_on = \"key_bbref\",\n",
    "    right_on = \"IDbref\"\n",
    ")"
   ]
  },
  {
   "cell_type": "code",
   "execution_count": null,
   "metadata": {},
   "outputs": [],
   "source": [
    "fwar_bwar[\"diff\"] = fwar_bwar.fWAR - fwar_bwar.bWAR"
   ]
  },
  {
   "cell_type": "code",
   "execution_count": null,
   "metadata": {},
   "outputs": [],
   "source": [
    "alt.Chart(fwar_bwar).mark_circle().encode(\n",
    "    alt.X(\"fWAR\"),\n",
    "    alt.Y(\"bWAR\"),\n",
    "    alt.Tooltip([\"Name\", \"fWAR\", \"bWAR\", \"diff\"])\n",
    ").properties(\n",
    "    height = 400,\n",
    "    width = 600\n",
    ").interactive()"
   ]
  },
  {
   "cell_type": "code",
   "execution_count": null,
   "metadata": {},
   "outputs": [],
   "source": [
    "fwar_bwar.to_csv(\"bwar_v_fwar.csv\", index=False)"
   ]
  },
  {
   "cell_type": "code",
   "execution_count": null,
   "metadata": {},
   "outputs": [],
   "source": []
  }
 ],
 "metadata": {
  "kernelspec": {
   "display_name": "Python 3",
   "language": "python",
   "name": "python3"
  },
  "language_info": {
   "codemirror_mode": {
    "name": "ipython",
    "version": 3
   },
   "file_extension": ".py",
   "mimetype": "text/x-python",
   "name": "python",
   "nbconvert_exporter": "python",
   "pygments_lexer": "ipython3",
   "version": "3.7.9"
  }
 },
 "nbformat": 4,
 "nbformat_minor": 4
}
