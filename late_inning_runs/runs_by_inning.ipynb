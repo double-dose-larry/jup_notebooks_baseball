{
 "cells": [
  {
   "cell_type": "code",
   "execution_count": 1,
   "metadata": {},
   "outputs": [],
   "source": [
    "from sportsref.baseball import Franchise\n",
    "from sportsref.util import get_players_or_teams\n",
    "import pandas as pd"
   ]
  },
  {
   "cell_type": "code",
   "execution_count": 2,
   "metadata": {},
   "outputs": [],
   "source": [
    "teams = get_players_or_teams(\"baseball\", \"team\")"
   ]
  },
  {
   "cell_type": "code",
   "execution_count": 3,
   "metadata": {},
   "outputs": [],
   "source": [
    "abbrs = [\n",
    "    'BOS','NYY','TBR','TOR','BAL',\n",
    "    'DET','MIN','KCR','CLE','CHW',\n",
    "    'HOU','LAA','OAK','TEX','SEA',\n",
    "    'NYM','ATL','WSN','MIA','PHI',\n",
    "    'CIN','CHC','PIT','MIL','STL',\n",
    "    'LAD','SDP','SFG','COL','ARI'\n",
    "]"
   ]
  },
  {
   "cell_type": "code",
   "execution_count": 4,
   "metadata": {},
   "outputs": [],
   "source": [
    "def get_inn_splits(abbr, yr):\n",
    "    print(abbr, yr)\n",
    "    url=f\"https://widgets.sports-reference.com/wg.fcgi?css=1&site=br&url=%2Fteams%2Fsplit.cgi%3Ft%3Db%26team%3D{abbr}%26year%3D{yr}&div=div_innng\"\n",
    "    df = pd.read_html(url)[0]\n",
    "    df['team'] = abbr\n",
    "    df['year'] = yr\n",
    "    return df"
   ]
  },
  {
   "cell_type": "code",
   "execution_count": 5,
   "metadata": {},
   "outputs": [
    {
     "name": "stdout",
     "output_type": "stream",
     "text": [
      "BOS 2021\n",
      "NYY 2021\n",
      "TBR 2021\n",
      "TOR 2021\n",
      "BAL 2021\n",
      "DET 2021\n",
      "MIN 2021\n",
      "KCR 2021\n",
      "CLE 2021\n",
      "CHW 2021\n",
      "HOU 2021\n",
      "LAA 2021\n",
      "OAK 2021\n",
      "TEX 2021\n",
      "SEA 2021\n",
      "NYM 2021\n",
      "ATL 2021\n",
      "WSN 2021\n",
      "MIA 2021\n",
      "PHI 2021\n",
      "CIN 2021\n",
      "CHC 2021\n",
      "PIT 2021\n",
      "MIL 2021\n",
      "STL 2021\n",
      "LAD 2021\n",
      "SDP 2021\n",
      "SFG 2021\n",
      "COL 2021\n",
      "ARI 2021\n",
      "CPU times: user 937 ms, sys: 62.2 ms, total: 1e+03 ms\n",
      "Wall time: 1.79 s\n"
     ]
    }
   ],
   "source": [
    "%%time\n",
    "df = pd.concat([\n",
    "    get_inn_splits(abbr, '2021') for abbr in abbrs\n",
    "])"
   ]
  },
  {
   "cell_type": "code",
   "execution_count": 6,
   "metadata": {},
   "outputs": [
    {
     "data": {
      "text/html": [
       "<div>\n",
       "<style scoped>\n",
       "    .dataframe tbody tr th:only-of-type {\n",
       "        vertical-align: middle;\n",
       "    }\n",
       "\n",
       "    .dataframe tbody tr th {\n",
       "        vertical-align: top;\n",
       "    }\n",
       "\n",
       "    .dataframe thead th {\n",
       "        text-align: right;\n",
       "    }\n",
       "</style>\n",
       "<table border=\"1\" class=\"dataframe\">\n",
       "  <thead>\n",
       "    <tr style=\"text-align: right;\">\n",
       "      <th></th>\n",
       "      <th>Split</th>\n",
       "      <th>G</th>\n",
       "      <th>GS</th>\n",
       "      <th>PA</th>\n",
       "      <th>AB</th>\n",
       "      <th>R</th>\n",
       "      <th>H</th>\n",
       "      <th>2B</th>\n",
       "      <th>3B</th>\n",
       "      <th>HR</th>\n",
       "      <th>...</th>\n",
       "      <th>HBP</th>\n",
       "      <th>SH</th>\n",
       "      <th>SF</th>\n",
       "      <th>IBB</th>\n",
       "      <th>ROE</th>\n",
       "      <th>BAbip</th>\n",
       "      <th>tOPS+</th>\n",
       "      <th>sOPS+</th>\n",
       "      <th>team</th>\n",
       "      <th>year</th>\n",
       "    </tr>\n",
       "  </thead>\n",
       "  <tbody>\n",
       "    <tr>\n",
       "      <th>0</th>\n",
       "      <td>1st inning</td>\n",
       "      <td>131</td>\n",
       "      <td>NaN</td>\n",
       "      <td>574</td>\n",
       "      <td>519</td>\n",
       "      <td>99</td>\n",
       "      <td>149</td>\n",
       "      <td>29</td>\n",
       "      <td>2</td>\n",
       "      <td>26</td>\n",
       "      <td>...</td>\n",
       "      <td>7</td>\n",
       "      <td>0</td>\n",
       "      <td>3</td>\n",
       "      <td>0</td>\n",
       "      <td>4</td>\n",
       "      <td>0.325</td>\n",
       "      <td>120</td>\n",
       "      <td>123</td>\n",
       "      <td>BOS</td>\n",
       "      <td>2021</td>\n",
       "    </tr>\n",
       "    <tr>\n",
       "      <th>1</th>\n",
       "      <td>2nd inning</td>\n",
       "      <td>131</td>\n",
       "      <td>NaN</td>\n",
       "      <td>582</td>\n",
       "      <td>521</td>\n",
       "      <td>84</td>\n",
       "      <td>141</td>\n",
       "      <td>32</td>\n",
       "      <td>1</td>\n",
       "      <td>27</td>\n",
       "      <td>...</td>\n",
       "      <td>4</td>\n",
       "      <td>1</td>\n",
       "      <td>5</td>\n",
       "      <td>0</td>\n",
       "      <td>2</td>\n",
       "      <td>0.310</td>\n",
       "      <td>114</td>\n",
       "      <td>134</td>\n",
       "      <td>BOS</td>\n",
       "      <td>2021</td>\n",
       "    </tr>\n",
       "    <tr>\n",
       "      <th>2</th>\n",
       "      <td>3rd inning</td>\n",
       "      <td>131</td>\n",
       "      <td>NaN</td>\n",
       "      <td>561</td>\n",
       "      <td>491</td>\n",
       "      <td>60</td>\n",
       "      <td>120</td>\n",
       "      <td>33</td>\n",
       "      <td>2</td>\n",
       "      <td>16</td>\n",
       "      <td>...</td>\n",
       "      <td>8</td>\n",
       "      <td>0</td>\n",
       "      <td>9</td>\n",
       "      <td>2</td>\n",
       "      <td>5</td>\n",
       "      <td>0.277</td>\n",
       "      <td>93</td>\n",
       "      <td>104</td>\n",
       "      <td>BOS</td>\n",
       "      <td>2021</td>\n",
       "    </tr>\n",
       "    <tr>\n",
       "      <th>3</th>\n",
       "      <td>4th inning</td>\n",
       "      <td>131</td>\n",
       "      <td>NaN</td>\n",
       "      <td>561</td>\n",
       "      <td>507</td>\n",
       "      <td>78</td>\n",
       "      <td>131</td>\n",
       "      <td>30</td>\n",
       "      <td>2</td>\n",
       "      <td>17</td>\n",
       "      <td>...</td>\n",
       "      <td>5</td>\n",
       "      <td>0</td>\n",
       "      <td>6</td>\n",
       "      <td>1</td>\n",
       "      <td>5</td>\n",
       "      <td>0.302</td>\n",
       "      <td>94</td>\n",
       "      <td>101</td>\n",
       "      <td>BOS</td>\n",
       "      <td>2021</td>\n",
       "    </tr>\n",
       "    <tr>\n",
       "      <th>4</th>\n",
       "      <td>5th inning</td>\n",
       "      <td>131</td>\n",
       "      <td>NaN</td>\n",
       "      <td>605</td>\n",
       "      <td>545</td>\n",
       "      <td>102</td>\n",
       "      <td>165</td>\n",
       "      <td>39</td>\n",
       "      <td>4</td>\n",
       "      <td>21</td>\n",
       "      <td>...</td>\n",
       "      <td>5</td>\n",
       "      <td>0</td>\n",
       "      <td>1</td>\n",
       "      <td>2</td>\n",
       "      <td>3</td>\n",
       "      <td>0.364</td>\n",
       "      <td>127</td>\n",
       "      <td>137</td>\n",
       "      <td>BOS</td>\n",
       "      <td>2021</td>\n",
       "    </tr>\n",
       "    <tr>\n",
       "      <th>...</th>\n",
       "      <td>...</td>\n",
       "      <td>...</td>\n",
       "      <td>...</td>\n",
       "      <td>...</td>\n",
       "      <td>...</td>\n",
       "      <td>...</td>\n",
       "      <td>...</td>\n",
       "      <td>...</td>\n",
       "      <td>...</td>\n",
       "      <td>...</td>\n",
       "      <td>...</td>\n",
       "      <td>...</td>\n",
       "      <td>...</td>\n",
       "      <td>...</td>\n",
       "      <td>...</td>\n",
       "      <td>...</td>\n",
       "      <td>...</td>\n",
       "      <td>...</td>\n",
       "      <td>...</td>\n",
       "      <td>...</td>\n",
       "      <td>...</td>\n",
       "    </tr>\n",
       "    <tr>\n",
       "      <th>8</th>\n",
       "      <td>9th inning</td>\n",
       "      <td>106</td>\n",
       "      <td>NaN</td>\n",
       "      <td>419</td>\n",
       "      <td>376</td>\n",
       "      <td>28</td>\n",
       "      <td>71</td>\n",
       "      <td>13</td>\n",
       "      <td>2</td>\n",
       "      <td>9</td>\n",
       "      <td>...</td>\n",
       "      <td>5</td>\n",
       "      <td>0</td>\n",
       "      <td>1</td>\n",
       "      <td>2</td>\n",
       "      <td>1</td>\n",
       "      <td>0.248</td>\n",
       "      <td>67</td>\n",
       "      <td>69</td>\n",
       "      <td>ARI</td>\n",
       "      <td>2021</td>\n",
       "    </tr>\n",
       "    <tr>\n",
       "      <th>9</th>\n",
       "      <td>Ext inning</td>\n",
       "      <td>12</td>\n",
       "      <td>NaN</td>\n",
       "      <td>70</td>\n",
       "      <td>60</td>\n",
       "      <td>21</td>\n",
       "      <td>15</td>\n",
       "      <td>4</td>\n",
       "      <td>1</td>\n",
       "      <td>2</td>\n",
       "      <td>...</td>\n",
       "      <td>1</td>\n",
       "      <td>1</td>\n",
       "      <td>0</td>\n",
       "      <td>3</td>\n",
       "      <td>1</td>\n",
       "      <td>0.283</td>\n",
       "      <td>130</td>\n",
       "      <td>100</td>\n",
       "      <td>ARI</td>\n",
       "      <td>2021</td>\n",
       "    </tr>\n",
       "    <tr>\n",
       "      <th>10</th>\n",
       "      <td>Innings 1-3</td>\n",
       "      <td>131</td>\n",
       "      <td>NaN</td>\n",
       "      <td>1659</td>\n",
       "      <td>1497</td>\n",
       "      <td>164</td>\n",
       "      <td>347</td>\n",
       "      <td>81</td>\n",
       "      <td>6</td>\n",
       "      <td>27</td>\n",
       "      <td>...</td>\n",
       "      <td>15</td>\n",
       "      <td>10</td>\n",
       "      <td>5</td>\n",
       "      <td>5</td>\n",
       "      <td>12</td>\n",
       "      <td>0.304</td>\n",
       "      <td>87</td>\n",
       "      <td>79</td>\n",
       "      <td>ARI</td>\n",
       "      <td>2021</td>\n",
       "    </tr>\n",
       "    <tr>\n",
       "      <th>11</th>\n",
       "      <td>Innings 4-6</td>\n",
       "      <td>131</td>\n",
       "      <td>NaN</td>\n",
       "      <td>1702</td>\n",
       "      <td>1519</td>\n",
       "      <td>198</td>\n",
       "      <td>384</td>\n",
       "      <td>93</td>\n",
       "      <td>10</td>\n",
       "      <td>49</td>\n",
       "      <td>...</td>\n",
       "      <td>14</td>\n",
       "      <td>12</td>\n",
       "      <td>8</td>\n",
       "      <td>7</td>\n",
       "      <td>12</td>\n",
       "      <td>0.305</td>\n",
       "      <td>115</td>\n",
       "      <td>103</td>\n",
       "      <td>ARI</td>\n",
       "      <td>2021</td>\n",
       "    </tr>\n",
       "    <tr>\n",
       "      <th>12</th>\n",
       "      <td>Innings 7-9</td>\n",
       "      <td>131</td>\n",
       "      <td>NaN</td>\n",
       "      <td>1549</td>\n",
       "      <td>1361</td>\n",
       "      <td>167</td>\n",
       "      <td>304</td>\n",
       "      <td>66</td>\n",
       "      <td>9</td>\n",
       "      <td>39</td>\n",
       "      <td>...</td>\n",
       "      <td>15</td>\n",
       "      <td>3</td>\n",
       "      <td>9</td>\n",
       "      <td>6</td>\n",
       "      <td>9</td>\n",
       "      <td>0.277</td>\n",
       "      <td>97</td>\n",
       "      <td>95</td>\n",
       "      <td>ARI</td>\n",
       "      <td>2021</td>\n",
       "    </tr>\n",
       "  </tbody>\n",
       "</table>\n",
       "<p>390 rows × 31 columns</p>\n",
       "</div>"
      ],
      "text/plain": [
       "          Split    G  GS    PA    AB    R    H  2B  3B  HR  ...  HBP  SH  SF  \\\n",
       "0    1st inning  131 NaN   574   519   99  149  29   2  26  ...    7   0   3   \n",
       "1    2nd inning  131 NaN   582   521   84  141  32   1  27  ...    4   1   5   \n",
       "2    3rd inning  131 NaN   561   491   60  120  33   2  16  ...    8   0   9   \n",
       "3    4th inning  131 NaN   561   507   78  131  30   2  17  ...    5   0   6   \n",
       "4    5th inning  131 NaN   605   545  102  165  39   4  21  ...    5   0   1   \n",
       "..          ...  ...  ..   ...   ...  ...  ...  ..  ..  ..  ...  ...  ..  ..   \n",
       "8    9th inning  106 NaN   419   376   28   71  13   2   9  ...    5   0   1   \n",
       "9    Ext inning   12 NaN    70    60   21   15   4   1   2  ...    1   1   0   \n",
       "10  Innings 1-3  131 NaN  1659  1497  164  347  81   6  27  ...   15  10   5   \n",
       "11  Innings 4-6  131 NaN  1702  1519  198  384  93  10  49  ...   14  12   8   \n",
       "12  Innings 7-9  131 NaN  1549  1361  167  304  66   9  39  ...   15   3   9   \n",
       "\n",
       "    IBB  ROE  BAbip  tOPS+  sOPS+  team  year  \n",
       "0     0    4  0.325    120    123   BOS  2021  \n",
       "1     0    2  0.310    114    134   BOS  2021  \n",
       "2     2    5  0.277     93    104   BOS  2021  \n",
       "3     1    5  0.302     94    101   BOS  2021  \n",
       "4     2    3  0.364    127    137   BOS  2021  \n",
       "..  ...  ...    ...    ...    ...   ...   ...  \n",
       "8     2    1  0.248     67     69   ARI  2021  \n",
       "9     3    1  0.283    130    100   ARI  2021  \n",
       "10    5   12  0.304     87     79   ARI  2021  \n",
       "11    7   12  0.305    115    103   ARI  2021  \n",
       "12    6    9  0.277     97     95   ARI  2021  \n",
       "\n",
       "[390 rows x 31 columns]"
      ]
     },
     "execution_count": 6,
     "metadata": {},
     "output_type": "execute_result"
    }
   ],
   "source": [
    "df"
   ]
  },
  {
   "cell_type": "code",
   "execution_count": 7,
   "metadata": {},
   "outputs": [
    {
     "data": {
      "text/html": [
       "<div>\n",
       "<style scoped>\n",
       "    .dataframe tbody tr th:only-of-type {\n",
       "        vertical-align: middle;\n",
       "    }\n",
       "\n",
       "    .dataframe tbody tr th {\n",
       "        vertical-align: top;\n",
       "    }\n",
       "\n",
       "    .dataframe thead th {\n",
       "        text-align: right;\n",
       "    }\n",
       "</style>\n",
       "<table border=\"1\" class=\"dataframe\">\n",
       "  <thead>\n",
       "    <tr style=\"text-align: right;\">\n",
       "      <th>Split</th>\n",
       "      <th>Innings 1-3</th>\n",
       "      <th>Innings 4-6</th>\n",
       "      <th>Innings 7-9</th>\n",
       "      <th>Innings 1-6</th>\n",
       "    </tr>\n",
       "    <tr>\n",
       "      <th>team</th>\n",
       "      <th></th>\n",
       "      <th></th>\n",
       "      <th></th>\n",
       "      <th></th>\n",
       "    </tr>\n",
       "  </thead>\n",
       "  <tbody>\n",
       "    <tr>\n",
       "      <th>ARI</th>\n",
       "      <td>164</td>\n",
       "      <td>198</td>\n",
       "      <td>167</td>\n",
       "      <td>362</td>\n",
       "    </tr>\n",
       "    <tr>\n",
       "      <th>ATL</th>\n",
       "      <td>202</td>\n",
       "      <td>237</td>\n",
       "      <td>172</td>\n",
       "      <td>439</td>\n",
       "    </tr>\n",
       "    <tr>\n",
       "      <th>BAL</th>\n",
       "      <td>182</td>\n",
       "      <td>175</td>\n",
       "      <td>160</td>\n",
       "      <td>357</td>\n",
       "    </tr>\n",
       "    <tr>\n",
       "      <th>BOS</th>\n",
       "      <td>243</td>\n",
       "      <td>253</td>\n",
       "      <td>140</td>\n",
       "      <td>496</td>\n",
       "    </tr>\n",
       "    <tr>\n",
       "      <th>CHC</th>\n",
       "      <td>198</td>\n",
       "      <td>180</td>\n",
       "      <td>169</td>\n",
       "      <td>378</td>\n",
       "    </tr>\n",
       "    <tr>\n",
       "      <th>CHW</th>\n",
       "      <td>252</td>\n",
       "      <td>235</td>\n",
       "      <td>152</td>\n",
       "      <td>487</td>\n",
       "    </tr>\n",
       "    <tr>\n",
       "      <th>CIN</th>\n",
       "      <td>231</td>\n",
       "      <td>199</td>\n",
       "      <td>197</td>\n",
       "      <td>430</td>\n",
       "    </tr>\n",
       "    <tr>\n",
       "      <th>CLE</th>\n",
       "      <td>195</td>\n",
       "      <td>207</td>\n",
       "      <td>148</td>\n",
       "      <td>402</td>\n",
       "    </tr>\n",
       "    <tr>\n",
       "      <th>COL</th>\n",
       "      <td>173</td>\n",
       "      <td>235</td>\n",
       "      <td>160</td>\n",
       "      <td>408</td>\n",
       "    </tr>\n",
       "    <tr>\n",
       "      <th>DET</th>\n",
       "      <td>171</td>\n",
       "      <td>219</td>\n",
       "      <td>149</td>\n",
       "      <td>390</td>\n",
       "    </tr>\n",
       "    <tr>\n",
       "      <th>HOU</th>\n",
       "      <td>232</td>\n",
       "      <td>251</td>\n",
       "      <td>191</td>\n",
       "      <td>483</td>\n",
       "    </tr>\n",
       "    <tr>\n",
       "      <th>KCR</th>\n",
       "      <td>165</td>\n",
       "      <td>197</td>\n",
       "      <td>168</td>\n",
       "      <td>362</td>\n",
       "    </tr>\n",
       "    <tr>\n",
       "      <th>LAA</th>\n",
       "      <td>229</td>\n",
       "      <td>197</td>\n",
       "      <td>161</td>\n",
       "      <td>426</td>\n",
       "    </tr>\n",
       "    <tr>\n",
       "      <th>LAD</th>\n",
       "      <td>245</td>\n",
       "      <td>197</td>\n",
       "      <td>207</td>\n",
       "      <td>442</td>\n",
       "    </tr>\n",
       "    <tr>\n",
       "      <th>MIA</th>\n",
       "      <td>191</td>\n",
       "      <td>155</td>\n",
       "      <td>158</td>\n",
       "      <td>346</td>\n",
       "    </tr>\n",
       "    <tr>\n",
       "      <th>MIL</th>\n",
       "      <td>182</td>\n",
       "      <td>209</td>\n",
       "      <td>184</td>\n",
       "      <td>391</td>\n",
       "    </tr>\n",
       "    <tr>\n",
       "      <th>MIN</th>\n",
       "      <td>193</td>\n",
       "      <td>219</td>\n",
       "      <td>157</td>\n",
       "      <td>412</td>\n",
       "    </tr>\n",
       "    <tr>\n",
       "      <th>NYM</th>\n",
       "      <td>136</td>\n",
       "      <td>171</td>\n",
       "      <td>154</td>\n",
       "      <td>307</td>\n",
       "    </tr>\n",
       "    <tr>\n",
       "      <th>NYY</th>\n",
       "      <td>191</td>\n",
       "      <td>183</td>\n",
       "      <td>165</td>\n",
       "      <td>374</td>\n",
       "    </tr>\n",
       "    <tr>\n",
       "      <th>OAK</th>\n",
       "      <td>204</td>\n",
       "      <td>185</td>\n",
       "      <td>167</td>\n",
       "      <td>389</td>\n",
       "    </tr>\n",
       "    <tr>\n",
       "      <th>PHI</th>\n",
       "      <td>188</td>\n",
       "      <td>176</td>\n",
       "      <td>197</td>\n",
       "      <td>364</td>\n",
       "    </tr>\n",
       "    <tr>\n",
       "      <th>PIT</th>\n",
       "      <td>154</td>\n",
       "      <td>154</td>\n",
       "      <td>148</td>\n",
       "      <td>308</td>\n",
       "    </tr>\n",
       "    <tr>\n",
       "      <th>SDP</th>\n",
       "      <td>195</td>\n",
       "      <td>195</td>\n",
       "      <td>193</td>\n",
       "      <td>390</td>\n",
       "    </tr>\n",
       "    <tr>\n",
       "      <th>SEA</th>\n",
       "      <td>186</td>\n",
       "      <td>164</td>\n",
       "      <td>162</td>\n",
       "      <td>350</td>\n",
       "    </tr>\n",
       "    <tr>\n",
       "      <th>SFG</th>\n",
       "      <td>225</td>\n",
       "      <td>184</td>\n",
       "      <td>188</td>\n",
       "      <td>409</td>\n",
       "    </tr>\n",
       "    <tr>\n",
       "      <th>STL</th>\n",
       "      <td>208</td>\n",
       "      <td>180</td>\n",
       "      <td>126</td>\n",
       "      <td>388</td>\n",
       "    </tr>\n",
       "    <tr>\n",
       "      <th>TBR</th>\n",
       "      <td>195</td>\n",
       "      <td>229</td>\n",
       "      <td>240</td>\n",
       "      <td>424</td>\n",
       "    </tr>\n",
       "    <tr>\n",
       "      <th>TEX</th>\n",
       "      <td>130</td>\n",
       "      <td>199</td>\n",
       "      <td>139</td>\n",
       "      <td>329</td>\n",
       "    </tr>\n",
       "    <tr>\n",
       "      <th>TOR</th>\n",
       "      <td>246</td>\n",
       "      <td>234</td>\n",
       "      <td>150</td>\n",
       "      <td>480</td>\n",
       "    </tr>\n",
       "    <tr>\n",
       "      <th>WSN</th>\n",
       "      <td>222</td>\n",
       "      <td>183</td>\n",
       "      <td>151</td>\n",
       "      <td>405</td>\n",
       "    </tr>\n",
       "  </tbody>\n",
       "</table>\n",
       "</div>"
      ],
      "text/plain": [
       "Split  Innings 1-3  Innings 4-6  Innings 7-9  Innings 1-6\n",
       "team                                                     \n",
       "ARI            164          198          167          362\n",
       "ATL            202          237          172          439\n",
       "BAL            182          175          160          357\n",
       "BOS            243          253          140          496\n",
       "CHC            198          180          169          378\n",
       "CHW            252          235          152          487\n",
       "CIN            231          199          197          430\n",
       "CLE            195          207          148          402\n",
       "COL            173          235          160          408\n",
       "DET            171          219          149          390\n",
       "HOU            232          251          191          483\n",
       "KCR            165          197          168          362\n",
       "LAA            229          197          161          426\n",
       "LAD            245          197          207          442\n",
       "MIA            191          155          158          346\n",
       "MIL            182          209          184          391\n",
       "MIN            193          219          157          412\n",
       "NYM            136          171          154          307\n",
       "NYY            191          183          165          374\n",
       "OAK            204          185          167          389\n",
       "PHI            188          176          197          364\n",
       "PIT            154          154          148          308\n",
       "SDP            195          195          193          390\n",
       "SEA            186          164          162          350\n",
       "SFG            225          184          188          409\n",
       "STL            208          180          126          388\n",
       "TBR            195          229          240          424\n",
       "TEX            130          199          139          329\n",
       "TOR            246          234          150          480\n",
       "WSN            222          183          151          405"
      ]
     },
     "execution_count": 7,
     "metadata": {},
     "output_type": "execute_result"
    }
   ],
   "source": [
    "plot_df = df[df['Split'].str.contains('Innings')].pivot(index='team', columns='Split', values='R')\n",
    "plot_df['Innings 1-6'] = plot_df['Innings 1-3'] + plot_df['Innings 4-6']\n",
    "plot_df"
   ]
  },
  {
   "cell_type": "code",
   "execution_count": 23,
   "metadata": {},
   "outputs": [
    {
     "data": {
      "application/vnd.plotly.v1+json": {
       "config": {
        "plotlyServerURL": "https://plot.ly"
       },
       "data": [
        {
         "hovertemplate": "team=ARI<br>Innings 1-3=%{x}<br>Innings 4-6=%{y}<br>Innings 7-9=%{z}<extra></extra>",
         "legendgroup": "ARI",
         "marker": {
          "color": "#636efa",
          "symbol": "circle"
         },
         "mode": "markers",
         "name": "ARI",
         "scene": "scene",
         "showlegend": true,
         "type": "scatter3d",
         "x": [
          164
         ],
         "y": [
          198
         ],
         "z": [
          167
         ]
        },
        {
         "hovertemplate": "team=ATL<br>Innings 1-3=%{x}<br>Innings 4-6=%{y}<br>Innings 7-9=%{z}<extra></extra>",
         "legendgroup": "ATL",
         "marker": {
          "color": "#EF553B",
          "symbol": "circle"
         },
         "mode": "markers",
         "name": "ATL",
         "scene": "scene",
         "showlegend": true,
         "type": "scatter3d",
         "x": [
          202
         ],
         "y": [
          237
         ],
         "z": [
          172
         ]
        },
        {
         "hovertemplate": "team=BAL<br>Innings 1-3=%{x}<br>Innings 4-6=%{y}<br>Innings 7-9=%{z}<extra></extra>",
         "legendgroup": "BAL",
         "marker": {
          "color": "#00cc96",
          "symbol": "circle"
         },
         "mode": "markers",
         "name": "BAL",
         "scene": "scene",
         "showlegend": true,
         "type": "scatter3d",
         "x": [
          182
         ],
         "y": [
          175
         ],
         "z": [
          160
         ]
        },
        {
         "hovertemplate": "team=BOS<br>Innings 1-3=%{x}<br>Innings 4-6=%{y}<br>Innings 7-9=%{z}<extra></extra>",
         "legendgroup": "BOS",
         "marker": {
          "color": "#ab63fa",
          "symbol": "circle"
         },
         "mode": "markers",
         "name": "BOS",
         "scene": "scene",
         "showlegend": true,
         "type": "scatter3d",
         "x": [
          243
         ],
         "y": [
          253
         ],
         "z": [
          140
         ]
        },
        {
         "hovertemplate": "team=CHC<br>Innings 1-3=%{x}<br>Innings 4-6=%{y}<br>Innings 7-9=%{z}<extra></extra>",
         "legendgroup": "CHC",
         "marker": {
          "color": "#FFA15A",
          "symbol": "circle"
         },
         "mode": "markers",
         "name": "CHC",
         "scene": "scene",
         "showlegend": true,
         "type": "scatter3d",
         "x": [
          198
         ],
         "y": [
          180
         ],
         "z": [
          169
         ]
        },
        {
         "hovertemplate": "team=CHW<br>Innings 1-3=%{x}<br>Innings 4-6=%{y}<br>Innings 7-9=%{z}<extra></extra>",
         "legendgroup": "CHW",
         "marker": {
          "color": "#19d3f3",
          "symbol": "circle"
         },
         "mode": "markers",
         "name": "CHW",
         "scene": "scene",
         "showlegend": true,
         "type": "scatter3d",
         "x": [
          252
         ],
         "y": [
          235
         ],
         "z": [
          152
         ]
        },
        {
         "hovertemplate": "team=CIN<br>Innings 1-3=%{x}<br>Innings 4-6=%{y}<br>Innings 7-9=%{z}<extra></extra>",
         "legendgroup": "CIN",
         "marker": {
          "color": "#FF6692",
          "symbol": "circle"
         },
         "mode": "markers",
         "name": "CIN",
         "scene": "scene",
         "showlegend": true,
         "type": "scatter3d",
         "x": [
          231
         ],
         "y": [
          199
         ],
         "z": [
          197
         ]
        },
        {
         "hovertemplate": "team=CLE<br>Innings 1-3=%{x}<br>Innings 4-6=%{y}<br>Innings 7-9=%{z}<extra></extra>",
         "legendgroup": "CLE",
         "marker": {
          "color": "#B6E880",
          "symbol": "circle"
         },
         "mode": "markers",
         "name": "CLE",
         "scene": "scene",
         "showlegend": true,
         "type": "scatter3d",
         "x": [
          195
         ],
         "y": [
          207
         ],
         "z": [
          148
         ]
        },
        {
         "hovertemplate": "team=COL<br>Innings 1-3=%{x}<br>Innings 4-6=%{y}<br>Innings 7-9=%{z}<extra></extra>",
         "legendgroup": "COL",
         "marker": {
          "color": "#FF97FF",
          "symbol": "circle"
         },
         "mode": "markers",
         "name": "COL",
         "scene": "scene",
         "showlegend": true,
         "type": "scatter3d",
         "x": [
          173
         ],
         "y": [
          235
         ],
         "z": [
          160
         ]
        },
        {
         "hovertemplate": "team=DET<br>Innings 1-3=%{x}<br>Innings 4-6=%{y}<br>Innings 7-9=%{z}<extra></extra>",
         "legendgroup": "DET",
         "marker": {
          "color": "#FECB52",
          "symbol": "circle"
         },
         "mode": "markers",
         "name": "DET",
         "scene": "scene",
         "showlegend": true,
         "type": "scatter3d",
         "x": [
          171
         ],
         "y": [
          219
         ],
         "z": [
          149
         ]
        },
        {
         "hovertemplate": "team=HOU<br>Innings 1-3=%{x}<br>Innings 4-6=%{y}<br>Innings 7-9=%{z}<extra></extra>",
         "legendgroup": "HOU",
         "marker": {
          "color": "#636efa",
          "symbol": "circle"
         },
         "mode": "markers",
         "name": "HOU",
         "scene": "scene",
         "showlegend": true,
         "type": "scatter3d",
         "x": [
          232
         ],
         "y": [
          251
         ],
         "z": [
          191
         ]
        },
        {
         "hovertemplate": "team=KCR<br>Innings 1-3=%{x}<br>Innings 4-6=%{y}<br>Innings 7-9=%{z}<extra></extra>",
         "legendgroup": "KCR",
         "marker": {
          "color": "#EF553B",
          "symbol": "circle"
         },
         "mode": "markers",
         "name": "KCR",
         "scene": "scene",
         "showlegend": true,
         "type": "scatter3d",
         "x": [
          165
         ],
         "y": [
          197
         ],
         "z": [
          168
         ]
        },
        {
         "hovertemplate": "team=LAA<br>Innings 1-3=%{x}<br>Innings 4-6=%{y}<br>Innings 7-9=%{z}<extra></extra>",
         "legendgroup": "LAA",
         "marker": {
          "color": "#00cc96",
          "symbol": "circle"
         },
         "mode": "markers",
         "name": "LAA",
         "scene": "scene",
         "showlegend": true,
         "type": "scatter3d",
         "x": [
          229
         ],
         "y": [
          197
         ],
         "z": [
          161
         ]
        },
        {
         "hovertemplate": "team=LAD<br>Innings 1-3=%{x}<br>Innings 4-6=%{y}<br>Innings 7-9=%{z}<extra></extra>",
         "legendgroup": "LAD",
         "marker": {
          "color": "#ab63fa",
          "symbol": "circle"
         },
         "mode": "markers",
         "name": "LAD",
         "scene": "scene",
         "showlegend": true,
         "type": "scatter3d",
         "x": [
          245
         ],
         "y": [
          197
         ],
         "z": [
          207
         ]
        },
        {
         "hovertemplate": "team=MIA<br>Innings 1-3=%{x}<br>Innings 4-6=%{y}<br>Innings 7-9=%{z}<extra></extra>",
         "legendgroup": "MIA",
         "marker": {
          "color": "#FFA15A",
          "symbol": "circle"
         },
         "mode": "markers",
         "name": "MIA",
         "scene": "scene",
         "showlegend": true,
         "type": "scatter3d",
         "x": [
          191
         ],
         "y": [
          155
         ],
         "z": [
          158
         ]
        },
        {
         "hovertemplate": "team=MIL<br>Innings 1-3=%{x}<br>Innings 4-6=%{y}<br>Innings 7-9=%{z}<extra></extra>",
         "legendgroup": "MIL",
         "marker": {
          "color": "#19d3f3",
          "symbol": "circle"
         },
         "mode": "markers",
         "name": "MIL",
         "scene": "scene",
         "showlegend": true,
         "type": "scatter3d",
         "x": [
          182
         ],
         "y": [
          209
         ],
         "z": [
          184
         ]
        },
        {
         "hovertemplate": "team=MIN<br>Innings 1-3=%{x}<br>Innings 4-6=%{y}<br>Innings 7-9=%{z}<extra></extra>",
         "legendgroup": "MIN",
         "marker": {
          "color": "#FF6692",
          "symbol": "circle"
         },
         "mode": "markers",
         "name": "MIN",
         "scene": "scene",
         "showlegend": true,
         "type": "scatter3d",
         "x": [
          193
         ],
         "y": [
          219
         ],
         "z": [
          157
         ]
        },
        {
         "hovertemplate": "team=NYM<br>Innings 1-3=%{x}<br>Innings 4-6=%{y}<br>Innings 7-9=%{z}<extra></extra>",
         "legendgroup": "NYM",
         "marker": {
          "color": "#B6E880",
          "symbol": "circle"
         },
         "mode": "markers",
         "name": "NYM",
         "scene": "scene",
         "showlegend": true,
         "type": "scatter3d",
         "x": [
          136
         ],
         "y": [
          171
         ],
         "z": [
          154
         ]
        },
        {
         "hovertemplate": "team=NYY<br>Innings 1-3=%{x}<br>Innings 4-6=%{y}<br>Innings 7-9=%{z}<extra></extra>",
         "legendgroup": "NYY",
         "marker": {
          "color": "#FF97FF",
          "symbol": "circle"
         },
         "mode": "markers",
         "name": "NYY",
         "scene": "scene",
         "showlegend": true,
         "type": "scatter3d",
         "x": [
          191
         ],
         "y": [
          183
         ],
         "z": [
          165
         ]
        },
        {
         "hovertemplate": "team=OAK<br>Innings 1-3=%{x}<br>Innings 4-6=%{y}<br>Innings 7-9=%{z}<extra></extra>",
         "legendgroup": "OAK",
         "marker": {
          "color": "#FECB52",
          "symbol": "circle"
         },
         "mode": "markers",
         "name": "OAK",
         "scene": "scene",
         "showlegend": true,
         "type": "scatter3d",
         "x": [
          204
         ],
         "y": [
          185
         ],
         "z": [
          167
         ]
        },
        {
         "hovertemplate": "team=PHI<br>Innings 1-3=%{x}<br>Innings 4-6=%{y}<br>Innings 7-9=%{z}<extra></extra>",
         "legendgroup": "PHI",
         "marker": {
          "color": "#636efa",
          "symbol": "circle"
         },
         "mode": "markers",
         "name": "PHI",
         "scene": "scene",
         "showlegend": true,
         "type": "scatter3d",
         "x": [
          188
         ],
         "y": [
          176
         ],
         "z": [
          197
         ]
        },
        {
         "hovertemplate": "team=PIT<br>Innings 1-3=%{x}<br>Innings 4-6=%{y}<br>Innings 7-9=%{z}<extra></extra>",
         "legendgroup": "PIT",
         "marker": {
          "color": "#EF553B",
          "symbol": "circle"
         },
         "mode": "markers",
         "name": "PIT",
         "scene": "scene",
         "showlegend": true,
         "type": "scatter3d",
         "x": [
          154
         ],
         "y": [
          154
         ],
         "z": [
          148
         ]
        },
        {
         "hovertemplate": "team=SDP<br>Innings 1-3=%{x}<br>Innings 4-6=%{y}<br>Innings 7-9=%{z}<extra></extra>",
         "legendgroup": "SDP",
         "marker": {
          "color": "#00cc96",
          "symbol": "circle"
         },
         "mode": "markers",
         "name": "SDP",
         "scene": "scene",
         "showlegend": true,
         "type": "scatter3d",
         "x": [
          195
         ],
         "y": [
          195
         ],
         "z": [
          193
         ]
        },
        {
         "hovertemplate": "team=SEA<br>Innings 1-3=%{x}<br>Innings 4-6=%{y}<br>Innings 7-9=%{z}<extra></extra>",
         "legendgroup": "SEA",
         "marker": {
          "color": "#ab63fa",
          "symbol": "circle"
         },
         "mode": "markers",
         "name": "SEA",
         "scene": "scene",
         "showlegend": true,
         "type": "scatter3d",
         "x": [
          186
         ],
         "y": [
          164
         ],
         "z": [
          162
         ]
        },
        {
         "hovertemplate": "team=SFG<br>Innings 1-3=%{x}<br>Innings 4-6=%{y}<br>Innings 7-9=%{z}<extra></extra>",
         "legendgroup": "SFG",
         "marker": {
          "color": "#FFA15A",
          "symbol": "circle"
         },
         "mode": "markers",
         "name": "SFG",
         "scene": "scene",
         "showlegend": true,
         "type": "scatter3d",
         "x": [
          225
         ],
         "y": [
          184
         ],
         "z": [
          188
         ]
        },
        {
         "hovertemplate": "team=STL<br>Innings 1-3=%{x}<br>Innings 4-6=%{y}<br>Innings 7-9=%{z}<extra></extra>",
         "legendgroup": "STL",
         "marker": {
          "color": "#19d3f3",
          "symbol": "circle"
         },
         "mode": "markers",
         "name": "STL",
         "scene": "scene",
         "showlegend": true,
         "type": "scatter3d",
         "x": [
          208
         ],
         "y": [
          180
         ],
         "z": [
          126
         ]
        },
        {
         "hovertemplate": "team=TBR<br>Innings 1-3=%{x}<br>Innings 4-6=%{y}<br>Innings 7-9=%{z}<extra></extra>",
         "legendgroup": "TBR",
         "marker": {
          "color": "#FF6692",
          "symbol": "circle"
         },
         "mode": "markers",
         "name": "TBR",
         "scene": "scene",
         "showlegend": true,
         "type": "scatter3d",
         "x": [
          195
         ],
         "y": [
          229
         ],
         "z": [
          240
         ]
        },
        {
         "hovertemplate": "team=TEX<br>Innings 1-3=%{x}<br>Innings 4-6=%{y}<br>Innings 7-9=%{z}<extra></extra>",
         "legendgroup": "TEX",
         "marker": {
          "color": "#B6E880",
          "symbol": "circle"
         },
         "mode": "markers",
         "name": "TEX",
         "scene": "scene",
         "showlegend": true,
         "type": "scatter3d",
         "x": [
          130
         ],
         "y": [
          199
         ],
         "z": [
          139
         ]
        },
        {
         "hovertemplate": "team=TOR<br>Innings 1-3=%{x}<br>Innings 4-6=%{y}<br>Innings 7-9=%{z}<extra></extra>",
         "legendgroup": "TOR",
         "marker": {
          "color": "#FF97FF",
          "symbol": "circle"
         },
         "mode": "markers",
         "name": "TOR",
         "scene": "scene",
         "showlegend": true,
         "type": "scatter3d",
         "x": [
          246
         ],
         "y": [
          234
         ],
         "z": [
          150
         ]
        },
        {
         "hovertemplate": "team=WSN<br>Innings 1-3=%{x}<br>Innings 4-6=%{y}<br>Innings 7-9=%{z}<extra></extra>",
         "legendgroup": "WSN",
         "marker": {
          "color": "#FECB52",
          "symbol": "circle"
         },
         "mode": "markers",
         "name": "WSN",
         "scene": "scene",
         "showlegend": true,
         "type": "scatter3d",
         "x": [
          222
         ],
         "y": [
          183
         ],
         "z": [
          151
         ]
        }
       ],
       "layout": {
        "autosize": true,
        "legend": {
         "title": {
          "text": "team"
         },
         "tracegroupgap": 0
        },
        "margin": {
         "t": 60
        },
        "scene": {
         "aspectmode": "auto",
         "aspectratio": {
          "x": 1.096629366966178,
          "y": 0.8898877649971445,
          "z": 1.0247192445421665
         },
         "camera": {
          "center": {
           "x": 0,
           "y": 0,
           "z": 0
          },
          "eye": {
           "x": 1.4467027309930462,
           "y": 1.446702730993046,
           "z": 1.446702730993046
          },
          "projection": {
           "type": "perspective"
          },
          "up": {
           "x": 0,
           "y": 0,
           "z": 1
          }
         },
         "domain": {
          "x": [
           0,
           1
          ],
          "y": [
           0,
           1
          ]
         },
         "xaxis": {
          "title": {
           "text": "Innings 1-3"
          },
          "type": "linear"
         },
         "yaxis": {
          "title": {
           "text": "Innings 4-6"
          },
          "type": "linear"
         },
         "zaxis": {
          "title": {
           "text": "Innings 7-9"
          },
          "type": "linear"
         }
        },
        "template": {
         "data": {
          "bar": [
           {
            "error_x": {
             "color": "#2a3f5f"
            },
            "error_y": {
             "color": "#2a3f5f"
            },
            "marker": {
             "line": {
              "color": "#E5ECF6",
              "width": 0.5
             }
            },
            "type": "bar"
           }
          ],
          "barpolar": [
           {
            "marker": {
             "line": {
              "color": "#E5ECF6",
              "width": 0.5
             }
            },
            "type": "barpolar"
           }
          ],
          "carpet": [
           {
            "aaxis": {
             "endlinecolor": "#2a3f5f",
             "gridcolor": "white",
             "linecolor": "white",
             "minorgridcolor": "white",
             "startlinecolor": "#2a3f5f"
            },
            "baxis": {
             "endlinecolor": "#2a3f5f",
             "gridcolor": "white",
             "linecolor": "white",
             "minorgridcolor": "white",
             "startlinecolor": "#2a3f5f"
            },
            "type": "carpet"
           }
          ],
          "choropleth": [
           {
            "colorbar": {
             "outlinewidth": 0,
             "ticks": ""
            },
            "type": "choropleth"
           }
          ],
          "contour": [
           {
            "colorbar": {
             "outlinewidth": 0,
             "ticks": ""
            },
            "colorscale": [
             [
              0,
              "#0d0887"
             ],
             [
              0.1111111111111111,
              "#46039f"
             ],
             [
              0.2222222222222222,
              "#7201a8"
             ],
             [
              0.3333333333333333,
              "#9c179e"
             ],
             [
              0.4444444444444444,
              "#bd3786"
             ],
             [
              0.5555555555555556,
              "#d8576b"
             ],
             [
              0.6666666666666666,
              "#ed7953"
             ],
             [
              0.7777777777777778,
              "#fb9f3a"
             ],
             [
              0.8888888888888888,
              "#fdca26"
             ],
             [
              1,
              "#f0f921"
             ]
            ],
            "type": "contour"
           }
          ],
          "contourcarpet": [
           {
            "colorbar": {
             "outlinewidth": 0,
             "ticks": ""
            },
            "type": "contourcarpet"
           }
          ],
          "heatmap": [
           {
            "colorbar": {
             "outlinewidth": 0,
             "ticks": ""
            },
            "colorscale": [
             [
              0,
              "#0d0887"
             ],
             [
              0.1111111111111111,
              "#46039f"
             ],
             [
              0.2222222222222222,
              "#7201a8"
             ],
             [
              0.3333333333333333,
              "#9c179e"
             ],
             [
              0.4444444444444444,
              "#bd3786"
             ],
             [
              0.5555555555555556,
              "#d8576b"
             ],
             [
              0.6666666666666666,
              "#ed7953"
             ],
             [
              0.7777777777777778,
              "#fb9f3a"
             ],
             [
              0.8888888888888888,
              "#fdca26"
             ],
             [
              1,
              "#f0f921"
             ]
            ],
            "type": "heatmap"
           }
          ],
          "heatmapgl": [
           {
            "colorbar": {
             "outlinewidth": 0,
             "ticks": ""
            },
            "colorscale": [
             [
              0,
              "#0d0887"
             ],
             [
              0.1111111111111111,
              "#46039f"
             ],
             [
              0.2222222222222222,
              "#7201a8"
             ],
             [
              0.3333333333333333,
              "#9c179e"
             ],
             [
              0.4444444444444444,
              "#bd3786"
             ],
             [
              0.5555555555555556,
              "#d8576b"
             ],
             [
              0.6666666666666666,
              "#ed7953"
             ],
             [
              0.7777777777777778,
              "#fb9f3a"
             ],
             [
              0.8888888888888888,
              "#fdca26"
             ],
             [
              1,
              "#f0f921"
             ]
            ],
            "type": "heatmapgl"
           }
          ],
          "histogram": [
           {
            "marker": {
             "colorbar": {
              "outlinewidth": 0,
              "ticks": ""
             }
            },
            "type": "histogram"
           }
          ],
          "histogram2d": [
           {
            "colorbar": {
             "outlinewidth": 0,
             "ticks": ""
            },
            "colorscale": [
             [
              0,
              "#0d0887"
             ],
             [
              0.1111111111111111,
              "#46039f"
             ],
             [
              0.2222222222222222,
              "#7201a8"
             ],
             [
              0.3333333333333333,
              "#9c179e"
             ],
             [
              0.4444444444444444,
              "#bd3786"
             ],
             [
              0.5555555555555556,
              "#d8576b"
             ],
             [
              0.6666666666666666,
              "#ed7953"
             ],
             [
              0.7777777777777778,
              "#fb9f3a"
             ],
             [
              0.8888888888888888,
              "#fdca26"
             ],
             [
              1,
              "#f0f921"
             ]
            ],
            "type": "histogram2d"
           }
          ],
          "histogram2dcontour": [
           {
            "colorbar": {
             "outlinewidth": 0,
             "ticks": ""
            },
            "colorscale": [
             [
              0,
              "#0d0887"
             ],
             [
              0.1111111111111111,
              "#46039f"
             ],
             [
              0.2222222222222222,
              "#7201a8"
             ],
             [
              0.3333333333333333,
              "#9c179e"
             ],
             [
              0.4444444444444444,
              "#bd3786"
             ],
             [
              0.5555555555555556,
              "#d8576b"
             ],
             [
              0.6666666666666666,
              "#ed7953"
             ],
             [
              0.7777777777777778,
              "#fb9f3a"
             ],
             [
              0.8888888888888888,
              "#fdca26"
             ],
             [
              1,
              "#f0f921"
             ]
            ],
            "type": "histogram2dcontour"
           }
          ],
          "mesh3d": [
           {
            "colorbar": {
             "outlinewidth": 0,
             "ticks": ""
            },
            "type": "mesh3d"
           }
          ],
          "parcoords": [
           {
            "line": {
             "colorbar": {
              "outlinewidth": 0,
              "ticks": ""
             }
            },
            "type": "parcoords"
           }
          ],
          "pie": [
           {
            "automargin": true,
            "type": "pie"
           }
          ],
          "scatter": [
           {
            "marker": {
             "colorbar": {
              "outlinewidth": 0,
              "ticks": ""
             }
            },
            "type": "scatter"
           }
          ],
          "scatter3d": [
           {
            "line": {
             "colorbar": {
              "outlinewidth": 0,
              "ticks": ""
             }
            },
            "marker": {
             "colorbar": {
              "outlinewidth": 0,
              "ticks": ""
             }
            },
            "type": "scatter3d"
           }
          ],
          "scattercarpet": [
           {
            "marker": {
             "colorbar": {
              "outlinewidth": 0,
              "ticks": ""
             }
            },
            "type": "scattercarpet"
           }
          ],
          "scattergeo": [
           {
            "marker": {
             "colorbar": {
              "outlinewidth": 0,
              "ticks": ""
             }
            },
            "type": "scattergeo"
           }
          ],
          "scattergl": [
           {
            "marker": {
             "colorbar": {
              "outlinewidth": 0,
              "ticks": ""
             }
            },
            "type": "scattergl"
           }
          ],
          "scattermapbox": [
           {
            "marker": {
             "colorbar": {
              "outlinewidth": 0,
              "ticks": ""
             }
            },
            "type": "scattermapbox"
           }
          ],
          "scatterpolar": [
           {
            "marker": {
             "colorbar": {
              "outlinewidth": 0,
              "ticks": ""
             }
            },
            "type": "scatterpolar"
           }
          ],
          "scatterpolargl": [
           {
            "marker": {
             "colorbar": {
              "outlinewidth": 0,
              "ticks": ""
             }
            },
            "type": "scatterpolargl"
           }
          ],
          "scatterternary": [
           {
            "marker": {
             "colorbar": {
              "outlinewidth": 0,
              "ticks": ""
             }
            },
            "type": "scatterternary"
           }
          ],
          "surface": [
           {
            "colorbar": {
             "outlinewidth": 0,
             "ticks": ""
            },
            "colorscale": [
             [
              0,
              "#0d0887"
             ],
             [
              0.1111111111111111,
              "#46039f"
             ],
             [
              0.2222222222222222,
              "#7201a8"
             ],
             [
              0.3333333333333333,
              "#9c179e"
             ],
             [
              0.4444444444444444,
              "#bd3786"
             ],
             [
              0.5555555555555556,
              "#d8576b"
             ],
             [
              0.6666666666666666,
              "#ed7953"
             ],
             [
              0.7777777777777778,
              "#fb9f3a"
             ],
             [
              0.8888888888888888,
              "#fdca26"
             ],
             [
              1,
              "#f0f921"
             ]
            ],
            "type": "surface"
           }
          ],
          "table": [
           {
            "cells": {
             "fill": {
              "color": "#EBF0F8"
             },
             "line": {
              "color": "white"
             }
            },
            "header": {
             "fill": {
              "color": "#C8D4E3"
             },
             "line": {
              "color": "white"
             }
            },
            "type": "table"
           }
          ]
         },
         "layout": {
          "annotationdefaults": {
           "arrowcolor": "#2a3f5f",
           "arrowhead": 0,
           "arrowwidth": 1
          },
          "autotypenumbers": "strict",
          "coloraxis": {
           "colorbar": {
            "outlinewidth": 0,
            "ticks": ""
           }
          },
          "colorscale": {
           "diverging": [
            [
             0,
             "#8e0152"
            ],
            [
             0.1,
             "#c51b7d"
            ],
            [
             0.2,
             "#de77ae"
            ],
            [
             0.3,
             "#f1b6da"
            ],
            [
             0.4,
             "#fde0ef"
            ],
            [
             0.5,
             "#f7f7f7"
            ],
            [
             0.6,
             "#e6f5d0"
            ],
            [
             0.7,
             "#b8e186"
            ],
            [
             0.8,
             "#7fbc41"
            ],
            [
             0.9,
             "#4d9221"
            ],
            [
             1,
             "#276419"
            ]
           ],
           "sequential": [
            [
             0,
             "#0d0887"
            ],
            [
             0.1111111111111111,
             "#46039f"
            ],
            [
             0.2222222222222222,
             "#7201a8"
            ],
            [
             0.3333333333333333,
             "#9c179e"
            ],
            [
             0.4444444444444444,
             "#bd3786"
            ],
            [
             0.5555555555555556,
             "#d8576b"
            ],
            [
             0.6666666666666666,
             "#ed7953"
            ],
            [
             0.7777777777777778,
             "#fb9f3a"
            ],
            [
             0.8888888888888888,
             "#fdca26"
            ],
            [
             1,
             "#f0f921"
            ]
           ],
           "sequentialminus": [
            [
             0,
             "#0d0887"
            ],
            [
             0.1111111111111111,
             "#46039f"
            ],
            [
             0.2222222222222222,
             "#7201a8"
            ],
            [
             0.3333333333333333,
             "#9c179e"
            ],
            [
             0.4444444444444444,
             "#bd3786"
            ],
            [
             0.5555555555555556,
             "#d8576b"
            ],
            [
             0.6666666666666666,
             "#ed7953"
            ],
            [
             0.7777777777777778,
             "#fb9f3a"
            ],
            [
             0.8888888888888888,
             "#fdca26"
            ],
            [
             1,
             "#f0f921"
            ]
           ]
          },
          "colorway": [
           "#636efa",
           "#EF553B",
           "#00cc96",
           "#ab63fa",
           "#FFA15A",
           "#19d3f3",
           "#FF6692",
           "#B6E880",
           "#FF97FF",
           "#FECB52"
          ],
          "font": {
           "color": "#2a3f5f"
          },
          "geo": {
           "bgcolor": "white",
           "lakecolor": "white",
           "landcolor": "#E5ECF6",
           "showlakes": true,
           "showland": true,
           "subunitcolor": "white"
          },
          "hoverlabel": {
           "align": "left"
          },
          "hovermode": "closest",
          "mapbox": {
           "style": "light"
          },
          "paper_bgcolor": "white",
          "plot_bgcolor": "#E5ECF6",
          "polar": {
           "angularaxis": {
            "gridcolor": "white",
            "linecolor": "white",
            "ticks": ""
           },
           "bgcolor": "#E5ECF6",
           "radialaxis": {
            "gridcolor": "white",
            "linecolor": "white",
            "ticks": ""
           }
          },
          "scene": {
           "xaxis": {
            "backgroundcolor": "#E5ECF6",
            "gridcolor": "white",
            "gridwidth": 2,
            "linecolor": "white",
            "showbackground": true,
            "ticks": "",
            "zerolinecolor": "white"
           },
           "yaxis": {
            "backgroundcolor": "#E5ECF6",
            "gridcolor": "white",
            "gridwidth": 2,
            "linecolor": "white",
            "showbackground": true,
            "ticks": "",
            "zerolinecolor": "white"
           },
           "zaxis": {
            "backgroundcolor": "#E5ECF6",
            "gridcolor": "white",
            "gridwidth": 2,
            "linecolor": "white",
            "showbackground": true,
            "ticks": "",
            "zerolinecolor": "white"
           }
          },
          "shapedefaults": {
           "line": {
            "color": "#2a3f5f"
           }
          },
          "ternary": {
           "aaxis": {
            "gridcolor": "white",
            "linecolor": "white",
            "ticks": ""
           },
           "baxis": {
            "gridcolor": "white",
            "linecolor": "white",
            "ticks": ""
           },
           "bgcolor": "#E5ECF6",
           "caxis": {
            "gridcolor": "white",
            "linecolor": "white",
            "ticks": ""
           }
          },
          "title": {
           "x": 0.05
          },
          "xaxis": {
           "automargin": true,
           "gridcolor": "white",
           "linecolor": "white",
           "ticks": "",
           "title": {
            "standoff": 15
           },
           "zerolinecolor": "white",
           "zerolinewidth": 2
          },
          "yaxis": {
           "automargin": true,
           "gridcolor": "white",
           "linecolor": "white",
           "ticks": "",
           "title": {
            "standoff": 15
           },
           "zerolinecolor": "white",
           "zerolinewidth": 2
          }
         }
        }
       }
      },
      "image/png": "[encoded data removed]",
      "text/html": [
       "<div>                            <div id=\"377bafb7-65ba-4518-9b2d-69df4a2f3ba3\" class=\"plotly-graph-div\" style=\"height:525px; width:100%;\"></div>            <script type=\"text/javascript\">                require([\"plotly\"], function(Plotly) {                    window.PLOTLYENV=window.PLOTLYENV || {};                                    if (document.getElementById(\"377bafb7-65ba-4518-9b2d-69df4a2f3ba3\")) {                    Plotly.newPlot(                        \"377bafb7-65ba-4518-9b2d-69df4a2f3ba3\",                        [{\"hovertemplate\": \"team=ARI<br>Innings 1-3=%{x}<br>Innings 4-6=%{y}<br>Innings 7-9=%{z}<extra></extra>\", \"legendgroup\": \"ARI\", \"marker\": {\"color\": \"#636efa\", \"symbol\": \"circle\"}, \"mode\": \"markers\", \"name\": \"ARI\", \"scene\": \"scene\", \"showlegend\": true, \"type\": \"scatter3d\", \"x\": [164], \"y\": [198], \"z\": [167]}, {\"hovertemplate\": \"team=ATL<br>Innings 1-3=%{x}<br>Innings 4-6=%{y}<br>Innings 7-9=%{z}<extra></extra>\", \"legendgroup\": \"ATL\", \"marker\": {\"color\": \"#EF553B\", \"symbol\": \"circle\"}, \"mode\": \"markers\", \"name\": \"ATL\", \"scene\": \"scene\", \"showlegend\": true, \"type\": \"scatter3d\", \"x\": [202], \"y\": [237], \"z\": [172]}, {\"hovertemplate\": \"team=BAL<br>Innings 1-3=%{x}<br>Innings 4-6=%{y}<br>Innings 7-9=%{z}<extra></extra>\", \"legendgroup\": \"BAL\", \"marker\": {\"color\": \"#00cc96\", \"symbol\": \"circle\"}, \"mode\": \"markers\", \"name\": \"BAL\", \"scene\": \"scene\", \"showlegend\": true, \"type\": \"scatter3d\", \"x\": [182], \"y\": [175], \"z\": [160]}, {\"hovertemplate\": \"team=BOS<br>Innings 1-3=%{x}<br>Innings 4-6=%{y}<br>Innings 7-9=%{z}<extra></extra>\", \"legendgroup\": \"BOS\", \"marker\": {\"color\": \"#ab63fa\", \"symbol\": \"circle\"}, \"mode\": \"markers\", \"name\": \"BOS\", \"scene\": \"scene\", \"showlegend\": true, \"type\": \"scatter3d\", \"x\": [243], \"y\": [253], \"z\": [140]}, {\"hovertemplate\": \"team=CHC<br>Innings 1-3=%{x}<br>Innings 4-6=%{y}<br>Innings 7-9=%{z}<extra></extra>\", \"legendgroup\": \"CHC\", \"marker\": {\"color\": \"#FFA15A\", \"symbol\": \"circle\"}, \"mode\": \"markers\", \"name\": \"CHC\", \"scene\": \"scene\", \"showlegend\": true, \"type\": \"scatter3d\", \"x\": [198], \"y\": [180], \"z\": [169]}, {\"hovertemplate\": \"team=CHW<br>Innings 1-3=%{x}<br>Innings 4-6=%{y}<br>Innings 7-9=%{z}<extra></extra>\", \"legendgroup\": \"CHW\", \"marker\": {\"color\": \"#19d3f3\", \"symbol\": \"circle\"}, \"mode\": \"markers\", \"name\": \"CHW\", \"scene\": \"scene\", \"showlegend\": true, \"type\": \"scatter3d\", \"x\": [252], \"y\": [235], \"z\": [152]}, {\"hovertemplate\": \"team=CIN<br>Innings 1-3=%{x}<br>Innings 4-6=%{y}<br>Innings 7-9=%{z}<extra></extra>\", \"legendgroup\": \"CIN\", \"marker\": {\"color\": \"#FF6692\", \"symbol\": \"circle\"}, \"mode\": \"markers\", \"name\": \"CIN\", \"scene\": \"scene\", \"showlegend\": true, \"type\": \"scatter3d\", \"x\": [231], \"y\": [199], \"z\": [197]}, {\"hovertemplate\": \"team=CLE<br>Innings 1-3=%{x}<br>Innings 4-6=%{y}<br>Innings 7-9=%{z}<extra></extra>\", \"legendgroup\": \"CLE\", \"marker\": {\"color\": \"#B6E880\", \"symbol\": \"circle\"}, \"mode\": \"markers\", \"name\": \"CLE\", \"scene\": \"scene\", \"showlegend\": true, \"type\": \"scatter3d\", \"x\": [195], \"y\": [207], \"z\": [148]}, {\"hovertemplate\": \"team=COL<br>Innings 1-3=%{x}<br>Innings 4-6=%{y}<br>Innings 7-9=%{z}<extra></extra>\", \"legendgroup\": \"COL\", \"marker\": {\"color\": \"#FF97FF\", \"symbol\": \"circle\"}, \"mode\": \"markers\", \"name\": \"COL\", \"scene\": \"scene\", \"showlegend\": true, \"type\": \"scatter3d\", \"x\": [173], \"y\": [235], \"z\": [160]}, {\"hovertemplate\": \"team=DET<br>Innings 1-3=%{x}<br>Innings 4-6=%{y}<br>Innings 7-9=%{z}<extra></extra>\", \"legendgroup\": \"DET\", \"marker\": {\"color\": \"#FECB52\", \"symbol\": \"circle\"}, \"mode\": \"markers\", \"name\": \"DET\", \"scene\": \"scene\", \"showlegend\": true, \"type\": \"scatter3d\", \"x\": [171], \"y\": [219], \"z\": [149]}, {\"hovertemplate\": \"team=HOU<br>Innings 1-3=%{x}<br>Innings 4-6=%{y}<br>Innings 7-9=%{z}<extra></extra>\", \"legendgroup\": \"HOU\", \"marker\": {\"color\": \"#636efa\", \"symbol\": \"circle\"}, \"mode\": \"markers\", \"name\": \"HOU\", \"scene\": \"scene\", \"showlegend\": true, \"type\": \"scatter3d\", \"x\": [232], \"y\": [251], \"z\": [191]}, {\"hovertemplate\": \"team=KCR<br>Innings 1-3=%{x}<br>Innings 4-6=%{y}<br>Innings 7-9=%{z}<extra></extra>\", \"legendgroup\": \"KCR\", \"marker\": {\"color\": \"#EF553B\", \"symbol\": \"circle\"}, \"mode\": \"markers\", \"name\": \"KCR\", \"scene\": \"scene\", \"showlegend\": true, \"type\": \"scatter3d\", \"x\": [165], \"y\": [197], \"z\": [168]}, {\"hovertemplate\": \"team=LAA<br>Innings 1-3=%{x}<br>Innings 4-6=%{y}<br>Innings 7-9=%{z}<extra></extra>\", \"legendgroup\": \"LAA\", \"marker\": {\"color\": \"#00cc96\", \"symbol\": \"circle\"}, \"mode\": \"markers\", \"name\": \"LAA\", \"scene\": \"scene\", \"showlegend\": true, \"type\": \"scatter3d\", \"x\": [229], \"y\": [197], \"z\": [161]}, {\"hovertemplate\": \"team=LAD<br>Innings 1-3=%{x}<br>Innings 4-6=%{y}<br>Innings 7-9=%{z}<extra></extra>\", \"legendgroup\": \"LAD\", \"marker\": {\"color\": \"#ab63fa\", \"symbol\": \"circle\"}, \"mode\": \"markers\", \"name\": \"LAD\", \"scene\": \"scene\", \"showlegend\": true, \"type\": \"scatter3d\", \"x\": [245], \"y\": [197], \"z\": [207]}, {\"hovertemplate\": \"team=MIA<br>Innings 1-3=%{x}<br>Innings 4-6=%{y}<br>Innings 7-9=%{z}<extra></extra>\", \"legendgroup\": \"MIA\", \"marker\": {\"color\": \"#FFA15A\", \"symbol\": \"circle\"}, \"mode\": \"markers\", \"name\": \"MIA\", \"scene\": \"scene\", \"showlegend\": true, \"type\": \"scatter3d\", \"x\": [191], \"y\": [155], \"z\": [158]}, {\"hovertemplate\": \"team=MIL<br>Innings 1-3=%{x}<br>Innings 4-6=%{y}<br>Innings 7-9=%{z}<extra></extra>\", \"legendgroup\": \"MIL\", \"marker\": {\"color\": \"#19d3f3\", \"symbol\": \"circle\"}, \"mode\": \"markers\", \"name\": \"MIL\", \"scene\": \"scene\", \"showlegend\": true, \"type\": \"scatter3d\", \"x\": [182], \"y\": [209], \"z\": [184]}, {\"hovertemplate\": \"team=MIN<br>Innings 1-3=%{x}<br>Innings 4-6=%{y}<br>Innings 7-9=%{z}<extra></extra>\", \"legendgroup\": \"MIN\", \"marker\": {\"color\": \"#FF6692\", \"symbol\": \"circle\"}, \"mode\": \"markers\", \"name\": \"MIN\", \"scene\": \"scene\", \"showlegend\": true, \"type\": \"scatter3d\", \"x\": [193], \"y\": [219], \"z\": [157]}, {\"hovertemplate\": \"team=NYM<br>Innings 1-3=%{x}<br>Innings 4-6=%{y}<br>Innings 7-9=%{z}<extra></extra>\", \"legendgroup\": \"NYM\", \"marker\": {\"color\": \"#B6E880\", \"symbol\": \"circle\"}, \"mode\": \"markers\", \"name\": \"NYM\", \"scene\": \"scene\", \"showlegend\": true, \"type\": \"scatter3d\", \"x\": [136], \"y\": [171], \"z\": [154]}, {\"hovertemplate\": \"team=NYY<br>Innings 1-3=%{x}<br>Innings 4-6=%{y}<br>Innings 7-9=%{z}<extra></extra>\", \"legendgroup\": \"NYY\", \"marker\": {\"color\": \"#FF97FF\", \"symbol\": \"circle\"}, \"mode\": \"markers\", \"name\": \"NYY\", \"scene\": \"scene\", \"showlegend\": true, \"type\": \"scatter3d\", \"x\": [191], \"y\": [183], \"z\": [165]}, {\"hovertemplate\": \"team=OAK<br>Innings 1-3=%{x}<br>Innings 4-6=%{y}<br>Innings 7-9=%{z}<extra></extra>\", \"legendgroup\": \"OAK\", \"marker\": {\"color\": \"#FECB52\", \"symbol\": \"circle\"}, \"mode\": \"markers\", \"name\": \"OAK\", \"scene\": \"scene\", \"showlegend\": true, \"type\": \"scatter3d\", \"x\": [204], \"y\": [185], \"z\": [167]}, {\"hovertemplate\": \"team=PHI<br>Innings 1-3=%{x}<br>Innings 4-6=%{y}<br>Innings 7-9=%{z}<extra></extra>\", \"legendgroup\": \"PHI\", \"marker\": {\"color\": \"#636efa\", \"symbol\": \"circle\"}, \"mode\": \"markers\", \"name\": \"PHI\", \"scene\": \"scene\", \"showlegend\": true, \"type\": \"scatter3d\", \"x\": [188], \"y\": [176], \"z\": [197]}, {\"hovertemplate\": \"team=PIT<br>Innings 1-3=%{x}<br>Innings 4-6=%{y}<br>Innings 7-9=%{z}<extra></extra>\", \"legendgroup\": \"PIT\", \"marker\": {\"color\": \"#EF553B\", \"symbol\": \"circle\"}, \"mode\": \"markers\", \"name\": \"PIT\", \"scene\": \"scene\", \"showlegend\": true, \"type\": \"scatter3d\", \"x\": [154], \"y\": [154], \"z\": [148]}, {\"hovertemplate\": \"team=SDP<br>Innings 1-3=%{x}<br>Innings 4-6=%{y}<br>Innings 7-9=%{z}<extra></extra>\", \"legendgroup\": \"SDP\", \"marker\": {\"color\": \"#00cc96\", \"symbol\": \"circle\"}, \"mode\": \"markers\", \"name\": \"SDP\", \"scene\": \"scene\", \"showlegend\": true, \"type\": \"scatter3d\", \"x\": [195], \"y\": [195], \"z\": [193]}, {\"hovertemplate\": \"team=SEA<br>Innings 1-3=%{x}<br>Innings 4-6=%{y}<br>Innings 7-9=%{z}<extra></extra>\", \"legendgroup\": \"SEA\", \"marker\": {\"color\": \"#ab63fa\", \"symbol\": \"circle\"}, \"mode\": \"markers\", \"name\": \"SEA\", \"scene\": \"scene\", \"showlegend\": true, \"type\": \"scatter3d\", \"x\": [186], \"y\": [164], \"z\": [162]}, {\"hovertemplate\": \"team=SFG<br>Innings 1-3=%{x}<br>Innings 4-6=%{y}<br>Innings 7-9=%{z}<extra></extra>\", \"legendgroup\": \"SFG\", \"marker\": {\"color\": \"#FFA15A\", \"symbol\": \"circle\"}, \"mode\": \"markers\", \"name\": \"SFG\", \"scene\": \"scene\", \"showlegend\": true, \"type\": \"scatter3d\", \"x\": [225], \"y\": [184], \"z\": [188]}, {\"hovertemplate\": \"team=STL<br>Innings 1-3=%{x}<br>Innings 4-6=%{y}<br>Innings 7-9=%{z}<extra></extra>\", \"legendgroup\": \"STL\", \"marker\": {\"color\": \"#19d3f3\", \"symbol\": \"circle\"}, \"mode\": \"markers\", \"name\": \"STL\", \"scene\": \"scene\", \"showlegend\": true, \"type\": \"scatter3d\", \"x\": [208], \"y\": [180], \"z\": [126]}, {\"hovertemplate\": \"team=TBR<br>Innings 1-3=%{x}<br>Innings 4-6=%{y}<br>Innings 7-9=%{z}<extra></extra>\", \"legendgroup\": \"TBR\", \"marker\": {\"color\": \"#FF6692\", \"symbol\": \"circle\"}, \"mode\": \"markers\", \"name\": \"TBR\", \"scene\": \"scene\", \"showlegend\": true, \"type\": \"scatter3d\", \"x\": [195], \"y\": [229], \"z\": [240]}, {\"hovertemplate\": \"team=TEX<br>Innings 1-3=%{x}<br>Innings 4-6=%{y}<br>Innings 7-9=%{z}<extra></extra>\", \"legendgroup\": \"TEX\", \"marker\": {\"color\": \"#B6E880\", \"symbol\": \"circle\"}, \"mode\": \"markers\", \"name\": \"TEX\", \"scene\": \"scene\", \"showlegend\": true, \"type\": \"scatter3d\", \"x\": [130], \"y\": [199], \"z\": [139]}, {\"hovertemplate\": \"team=TOR<br>Innings 1-3=%{x}<br>Innings 4-6=%{y}<br>Innings 7-9=%{z}<extra></extra>\", \"legendgroup\": \"TOR\", \"marker\": {\"color\": \"#FF97FF\", \"symbol\": \"circle\"}, \"mode\": \"markers\", \"name\": \"TOR\", \"scene\": \"scene\", \"showlegend\": true, \"type\": \"scatter3d\", \"x\": [246], \"y\": [234], \"z\": [150]}, {\"hovertemplate\": \"team=WSN<br>Innings 1-3=%{x}<br>Innings 4-6=%{y}<br>Innings 7-9=%{z}<extra></extra>\", \"legendgroup\": \"WSN\", \"marker\": {\"color\": \"#FECB52\", \"symbol\": \"circle\"}, \"mode\": \"markers\", \"name\": \"WSN\", \"scene\": \"scene\", \"showlegend\": true, \"type\": \"scatter3d\", \"x\": [222], \"y\": [183], \"z\": [151]}],                        {\"legend\": {\"title\": {\"text\": \"team\"}, \"tracegroupgap\": 0}, \"margin\": {\"t\": 60}, \"scene\": {\"domain\": {\"x\": [0.0, 1.0], \"y\": [0.0, 1.0]}, \"xaxis\": {\"title\": {\"text\": \"Innings 1-3\"}}, \"yaxis\": {\"title\": {\"text\": \"Innings 4-6\"}}, \"zaxis\": {\"title\": {\"text\": \"Innings 7-9\"}}}, \"template\": {\"data\": {\"bar\": [{\"error_x\": {\"color\": \"#2a3f5f\"}, \"error_y\": {\"color\": \"#2a3f5f\"}, \"marker\": {\"line\": {\"color\": \"#E5ECF6\", \"width\": 0.5}}, \"type\": \"bar\"}], \"barpolar\": [{\"marker\": {\"line\": {\"color\": \"#E5ECF6\", \"width\": 0.5}}, \"type\": \"barpolar\"}], \"carpet\": [{\"aaxis\": {\"endlinecolor\": \"#2a3f5f\", \"gridcolor\": \"white\", \"linecolor\": \"white\", \"minorgridcolor\": \"white\", \"startlinecolor\": \"#2a3f5f\"}, \"baxis\": {\"endlinecolor\": \"#2a3f5f\", \"gridcolor\": \"white\", \"linecolor\": \"white\", \"minorgridcolor\": \"white\", \"startlinecolor\": \"#2a3f5f\"}, \"type\": \"carpet\"}], \"choropleth\": [{\"colorbar\": {\"outlinewidth\": 0, \"ticks\": \"\"}, \"type\": \"choropleth\"}], \"contour\": [{\"colorbar\": {\"outlinewidth\": 0, \"ticks\": \"\"}, \"colorscale\": [[0.0, \"#0d0887\"], [0.1111111111111111, \"#46039f\"], [0.2222222222222222, \"#7201a8\"], [0.3333333333333333, \"#9c179e\"], [0.4444444444444444, \"#bd3786\"], [0.5555555555555556, \"#d8576b\"], [0.6666666666666666, \"#ed7953\"], [0.7777777777777778, \"#fb9f3a\"], [0.8888888888888888, \"#fdca26\"], [1.0, \"#f0f921\"]], \"type\": \"contour\"}], \"contourcarpet\": [{\"colorbar\": {\"outlinewidth\": 0, \"ticks\": \"\"}, \"type\": \"contourcarpet\"}], \"heatmap\": [{\"colorbar\": {\"outlinewidth\": 0, \"ticks\": \"\"}, \"colorscale\": [[0.0, \"#0d0887\"], [0.1111111111111111, \"#46039f\"], [0.2222222222222222, \"#7201a8\"], [0.3333333333333333, \"#9c179e\"], [0.4444444444444444, \"#bd3786\"], [0.5555555555555556, \"#d8576b\"], [0.6666666666666666, \"#ed7953\"], [0.7777777777777778, \"#fb9f3a\"], [0.8888888888888888, \"#fdca26\"], [1.0, \"#f0f921\"]], \"type\": \"heatmap\"}], \"heatmapgl\": [{\"colorbar\": {\"outlinewidth\": 0, \"ticks\": \"\"}, \"colorscale\": [[0.0, \"#0d0887\"], [0.1111111111111111, \"#46039f\"], [0.2222222222222222, \"#7201a8\"], [0.3333333333333333, \"#9c179e\"], [0.4444444444444444, \"#bd3786\"], [0.5555555555555556, \"#d8576b\"], [0.6666666666666666, \"#ed7953\"], [0.7777777777777778, \"#fb9f3a\"], [0.8888888888888888, \"#fdca26\"], [1.0, \"#f0f921\"]], \"type\": \"heatmapgl\"}], \"histogram\": [{\"marker\": {\"colorbar\": {\"outlinewidth\": 0, \"ticks\": \"\"}}, \"type\": \"histogram\"}], \"histogram2d\": [{\"colorbar\": {\"outlinewidth\": 0, \"ticks\": \"\"}, \"colorscale\": [[0.0, \"#0d0887\"], [0.1111111111111111, \"#46039f\"], [0.2222222222222222, \"#7201a8\"], [0.3333333333333333, \"#9c179e\"], [0.4444444444444444, \"#bd3786\"], [0.5555555555555556, \"#d8576b\"], [0.6666666666666666, \"#ed7953\"], [0.7777777777777778, \"#fb9f3a\"], [0.8888888888888888, \"#fdca26\"], [1.0, \"#f0f921\"]], \"type\": \"histogram2d\"}], \"histogram2dcontour\": [{\"colorbar\": {\"outlinewidth\": 0, \"ticks\": \"\"}, \"colorscale\": [[0.0, \"#0d0887\"], [0.1111111111111111, \"#46039f\"], [0.2222222222222222, \"#7201a8\"], [0.3333333333333333, \"#9c179e\"], [0.4444444444444444, \"#bd3786\"], [0.5555555555555556, \"#d8576b\"], [0.6666666666666666, \"#ed7953\"], [0.7777777777777778, \"#fb9f3a\"], [0.8888888888888888, \"#fdca26\"], [1.0, \"#f0f921\"]], \"type\": \"histogram2dcontour\"}], \"mesh3d\": [{\"colorbar\": {\"outlinewidth\": 0, \"ticks\": \"\"}, \"type\": \"mesh3d\"}], \"parcoords\": [{\"line\": {\"colorbar\": {\"outlinewidth\": 0, \"ticks\": \"\"}}, \"type\": \"parcoords\"}], \"pie\": [{\"automargin\": true, \"type\": \"pie\"}], \"scatter\": [{\"marker\": {\"colorbar\": {\"outlinewidth\": 0, \"ticks\": \"\"}}, \"type\": \"scatter\"}], \"scatter3d\": [{\"line\": {\"colorbar\": {\"outlinewidth\": 0, \"ticks\": \"\"}}, \"marker\": {\"colorbar\": {\"outlinewidth\": 0, \"ticks\": \"\"}}, \"type\": \"scatter3d\"}], \"scattercarpet\": [{\"marker\": {\"colorbar\": {\"outlinewidth\": 0, \"ticks\": \"\"}}, \"type\": \"scattercarpet\"}], \"scattergeo\": [{\"marker\": {\"colorbar\": {\"outlinewidth\": 0, \"ticks\": \"\"}}, \"type\": \"scattergeo\"}], \"scattergl\": [{\"marker\": {\"colorbar\": {\"outlinewidth\": 0, \"ticks\": \"\"}}, \"type\": \"scattergl\"}], \"scattermapbox\": [{\"marker\": {\"colorbar\": {\"outlinewidth\": 0, \"ticks\": \"\"}}, \"type\": \"scattermapbox\"}], \"scatterpolar\": [{\"marker\": {\"colorbar\": {\"outlinewidth\": 0, \"ticks\": \"\"}}, \"type\": \"scatterpolar\"}], \"scatterpolargl\": [{\"marker\": {\"colorbar\": {\"outlinewidth\": 0, \"ticks\": \"\"}}, \"type\": \"scatterpolargl\"}], \"scatterternary\": [{\"marker\": {\"colorbar\": {\"outlinewidth\": 0, \"ticks\": \"\"}}, \"type\": \"scatterternary\"}], \"surface\": [{\"colorbar\": {\"outlinewidth\": 0, \"ticks\": \"\"}, \"colorscale\": [[0.0, \"#0d0887\"], [0.1111111111111111, \"#46039f\"], [0.2222222222222222, \"#7201a8\"], [0.3333333333333333, \"#9c179e\"], [0.4444444444444444, \"#bd3786\"], [0.5555555555555556, \"#d8576b\"], [0.6666666666666666, \"#ed7953\"], [0.7777777777777778, \"#fb9f3a\"], [0.8888888888888888, \"#fdca26\"], [1.0, \"#f0f921\"]], \"type\": \"surface\"}], \"table\": [{\"cells\": {\"fill\": {\"color\": \"#EBF0F8\"}, \"line\": {\"color\": \"white\"}}, \"header\": {\"fill\": {\"color\": \"#C8D4E3\"}, \"line\": {\"color\": \"white\"}}, \"type\": \"table\"}]}, \"layout\": {\"annotationdefaults\": {\"arrowcolor\": \"#2a3f5f\", \"arrowhead\": 0, \"arrowwidth\": 1}, \"autotypenumbers\": \"strict\", \"coloraxis\": {\"colorbar\": {\"outlinewidth\": 0, \"ticks\": \"\"}}, \"colorscale\": {\"diverging\": [[0, \"#8e0152\"], [0.1, \"#c51b7d\"], [0.2, \"#de77ae\"], [0.3, \"#f1b6da\"], [0.4, \"#fde0ef\"], [0.5, \"#f7f7f7\"], [0.6, \"#e6f5d0\"], [0.7, \"#b8e186\"], [0.8, \"#7fbc41\"], [0.9, \"#4d9221\"], [1, \"#276419\"]], \"sequential\": [[0.0, \"#0d0887\"], [0.1111111111111111, \"#46039f\"], [0.2222222222222222, \"#7201a8\"], [0.3333333333333333, \"#9c179e\"], [0.4444444444444444, \"#bd3786\"], [0.5555555555555556, \"#d8576b\"], [0.6666666666666666, \"#ed7953\"], [0.7777777777777778, \"#fb9f3a\"], [0.8888888888888888, \"#fdca26\"], [1.0, \"#f0f921\"]], \"sequentialminus\": [[0.0, \"#0d0887\"], [0.1111111111111111, \"#46039f\"], [0.2222222222222222, \"#7201a8\"], [0.3333333333333333, \"#9c179e\"], [0.4444444444444444, \"#bd3786\"], [0.5555555555555556, \"#d8576b\"], [0.6666666666666666, \"#ed7953\"], [0.7777777777777778, \"#fb9f3a\"], [0.8888888888888888, \"#fdca26\"], [1.0, \"#f0f921\"]]}, \"colorway\": [\"#636efa\", \"#EF553B\", \"#00cc96\", \"#ab63fa\", \"#FFA15A\", \"#19d3f3\", \"#FF6692\", \"#B6E880\", \"#FF97FF\", \"#FECB52\"], \"font\": {\"color\": \"#2a3f5f\"}, \"geo\": {\"bgcolor\": \"white\", \"lakecolor\": \"white\", \"landcolor\": \"#E5ECF6\", \"showlakes\": true, \"showland\": true, \"subunitcolor\": \"white\"}, \"hoverlabel\": {\"align\": \"left\"}, \"hovermode\": \"closest\", \"mapbox\": {\"style\": \"light\"}, \"paper_bgcolor\": \"white\", \"plot_bgcolor\": \"#E5ECF6\", \"polar\": {\"angularaxis\": {\"gridcolor\": \"white\", \"linecolor\": \"white\", \"ticks\": \"\"}, \"bgcolor\": \"#E5ECF6\", \"radialaxis\": {\"gridcolor\": \"white\", \"linecolor\": \"white\", \"ticks\": \"\"}}, \"scene\": {\"xaxis\": {\"backgroundcolor\": \"#E5ECF6\", \"gridcolor\": \"white\", \"gridwidth\": 2, \"linecolor\": \"white\", \"showbackground\": true, \"ticks\": \"\", \"zerolinecolor\": \"white\"}, \"yaxis\": {\"backgroundcolor\": \"#E5ECF6\", \"gridcolor\": \"white\", \"gridwidth\": 2, \"linecolor\": \"white\", \"showbackground\": true, \"ticks\": \"\", \"zerolinecolor\": \"white\"}, \"zaxis\": {\"backgroundcolor\": \"#E5ECF6\", \"gridcolor\": \"white\", \"gridwidth\": 2, \"linecolor\": \"white\", \"showbackground\": true, \"ticks\": \"\", \"zerolinecolor\": \"white\"}}, \"shapedefaults\": {\"line\": {\"color\": \"#2a3f5f\"}}, \"ternary\": {\"aaxis\": {\"gridcolor\": \"white\", \"linecolor\": \"white\", \"ticks\": \"\"}, \"baxis\": {\"gridcolor\": \"white\", \"linecolor\": \"white\", \"ticks\": \"\"}, \"bgcolor\": \"#E5ECF6\", \"caxis\": {\"gridcolor\": \"white\", \"linecolor\": \"white\", \"ticks\": \"\"}}, \"title\": {\"x\": 0.05}, \"xaxis\": {\"automargin\": true, \"gridcolor\": \"white\", \"linecolor\": \"white\", \"ticks\": \"\", \"title\": {\"standoff\": 15}, \"zerolinecolor\": \"white\", \"zerolinewidth\": 2}, \"yaxis\": {\"automargin\": true, \"gridcolor\": \"white\", \"linecolor\": \"white\", \"ticks\": \"\", \"title\": {\"standoff\": 15}, \"zerolinecolor\": \"white\", \"zerolinewidth\": 2}}}},                        {\"responsive\": true}                    ).then(function(){\n",
       "                            \n",
       "var gd = document.getElementById('377bafb7-65ba-4518-9b2d-69df4a2f3ba3');\n",
       "var x = new MutationObserver(function (mutations, observer) {{\n",
       "        var display = window.getComputedStyle(gd).display;\n",
       "        if (!display || display === 'none') {{\n",
       "            console.log([gd, 'removed!']);\n",
       "            Plotly.purge(gd);\n",
       "            observer.disconnect();\n",
       "        }}\n",
       "}});\n",
       "\n",
       "// Listen for the removal of the full notebook cells\n",
       "var notebookContainer = gd.closest('#notebook-container');\n",
       "if (notebookContainer) {{\n",
       "    x.observe(notebookContainer, {childList: true});\n",
       "}}\n",
       "\n",
       "// Listen for the clearing of the current output cell\n",
       "var outputEl = gd.closest('.output');\n",
       "if (outputEl) {{\n",
       "    x.observe(outputEl, {childList: true});\n",
       "}}\n",
       "\n",
       "                        })                };                });            </script>        </div>"
      ]
     },
     "metadata": {},
     "output_type": "display_data"
    }
   ],
   "source": [
    "import plotly.express as px\n",
    "df = px.data.iris()\n",
    "fig = px.scatter_3d(plot_df.reset_index(), x='Innings 1-3', y='Innings 4-6', z='Innings 7-9',\n",
    "              color='team')\n",
    "fig.write_html('interactive_3d.html')\n",
    "fig.show()"
   ]
  },
  {
   "cell_type": "code",
   "execution_count": 8,
   "metadata": {},
   "outputs": [],
   "source": [
    "import seaborn as sns\n",
    "import matplotlib.pyplot as plt\n",
    "from matplotlib.patches import Ellipse, Polygon"
   ]
  },
  {
   "cell_type": "code",
   "execution_count": 9,
   "metadata": {},
   "outputs": [],
   "source": [
    "from matplotlib.offsetbox import OffsetImage, AnnotationBbox\n",
    "def getImage(path):\n",
    "    return OffsetImage(plt.imread(path), zoom=.07)"
   ]
  },
  {
   "cell_type": "code",
   "execution_count": 10,
   "metadata": {},
   "outputs": [
    {
     "data": {
      "text/plain": [
       "<matplotlib.rc_context at 0x7fd801d07410>"
      ]
     },
     "execution_count": 10,
     "metadata": {},
     "output_type": "execute_result"
    }
   ],
   "source": [
    "plt.xkcd()"
   ]
  },
  {
   "cell_type": "code",
   "execution_count": 21,
   "metadata": {},
   "outputs": [
    {
     "data": {
      "image/png": "[encoded data removed]",
      "text/plain": [
       "<Figure size 1440x1224 with 1 Axes>"
      ]
     },
     "metadata": {},
     "output_type": "display_data"
    }
   ],
   "source": [
    "f, ax = plt.subplots(figsize=(20,17))\n",
    "\n",
    "ax.scatter(plot_df['Innings 1-6'], plot_df['Innings 7-9'])\n",
    "\n",
    "imgs = [\n",
    "    ax.add_artist(\n",
    "        AnnotationBbox(getImage(f'{tm.Index}.png'),\n",
    "                      (tm._4, tm._3),\n",
    "                       frameon=True\n",
    "                      )\n",
    "    )\n",
    "    for tm in plot_df.itertuples()\n",
    "]\n",
    "\n",
    "#annotate low scoring\n",
    "ax.add_patch(Ellipse(xy=(318,145), \n",
    "                     width=40, \n",
    "                     height=40, fill=False, ls=\"--\", lw=3))\n",
    "\n",
    "ax.annotate(\n",
    "    \"don't score a lot\\n in general\",\n",
    "    (318, 165),\n",
    "    size=18,\n",
    "    xytext = (-40,20),\n",
    "        textcoords=\"offset pixels\",\n",
    "        arrowprops=dict(\n",
    "                     arrowstyle=\"->\")\n",
    ")\n",
    "\n",
    "#annotate Cardinals\n",
    "ax.annotate(\n",
    "    \"just kind of\\nchecked out\\nthis season\",\n",
    "    (390,125),\n",
    "    size=18,\n",
    "    xytext=(60,10),\n",
    "    textcoords=\"offset pixels\",\n",
    "    arrowprops=dict(arrowstyle=\"->\")\n",
    ")\n",
    "\n",
    "#annotate low late-inning scoring\n",
    "ax.add_patch(Ellipse(xy=(488,145), \n",
    "                     width=30, \n",
    "                     height=30, fill=False, ls=\"--\", lw=3))\n",
    "\n",
    "ax.annotate(\n",
    "    \"lose steam\\nlate in games\",\n",
    "    (488, 160),\n",
    "    size=18,\n",
    "    xytext = (-40,30),\n",
    "        textcoords=\"offset pixels\",\n",
    "        arrowprops=dict(\n",
    "                     arrowstyle=\"->\")\n",
    ")\n",
    "\n",
    "#annotate astros\n",
    "ax.annotate(\n",
    "    \"score a lot\\nthrought the game\",\n",
    "    (483, 195),\n",
    "    size=18,\n",
    "    xytext = (-50,30),\n",
    "        textcoords=\"offset pixels\",\n",
    "        arrowprops=dict(\n",
    "                     arrowstyle=\"->\")\n",
    ")\n",
    "\n",
    "#annotate diamondbacks\n",
    "ax.annotate(\n",
    "    \"D-Backs\",\n",
    "    (362, 168),\n",
    "    size=18,\n",
    "    xytext = (-90,50),\n",
    "        textcoords=\"offset pixels\",\n",
    "        arrowprops=dict(\n",
    "                     arrowstyle=\"->\")\n",
    ")\n",
    "\n",
    "#annotate rays\n",
    "ax.annotate(\n",
    "    \"offensive equivalent\\nof a shutdown\\nbullpen\",\n",
    "    (424, 240),\n",
    "    size=18,\n",
    "    xytext = (-90,-90),\n",
    "        textcoords=\"offset pixels\",\n",
    "        arrowprops=dict(\n",
    "                     arrowstyle=\"->\")\n",
    ")\n",
    "\n",
    "plt.xlabel('Runs Scored Innings 1-6', size=20)\n",
    "plt.ylabel('Runs Scored Innings 7-9', size=20)\n",
    "plt.title('Early inning vs Late inning Runs Scored', pad=30, size=30)\n",
    "plt.tight_layout()\n",
    "plt.savefig('late_inning_runs.png')"
   ]
  },
  {
   "cell_type": "code",
   "execution_count": 12,
   "metadata": {},
   "outputs": [],
   "source": [
    "# list(plot_df.itertuples())"
   ]
  },
  {
   "cell_type": "code",
   "execution_count": null,
   "metadata": {},
   "outputs": [],
   "source": []
  }
 ],
 "metadata": {
  "kernelspec": {
   "display_name": "Python 3",
   "language": "python",
   "name": "python3"
  },
  "language_info": {
   "codemirror_mode": {
    "name": "ipython",
    "version": 3
   },
   "file_extension": ".py",
   "mimetype": "text/x-python",
   "name": "python",
   "nbconvert_exporter": "python",
   "pygments_lexer": "ipython3",
   "version": "3.7.9"
  }
 },
 "nbformat": 4,
 "nbformat_minor": 4
}
