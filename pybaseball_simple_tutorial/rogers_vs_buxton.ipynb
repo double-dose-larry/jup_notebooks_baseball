{
 "cells": [
  {
   "cell_type": "code",
   "execution_count": 8,
   "metadata": {},
   "outputs": [],
   "source": [
    "# imports\n",
    "import pandas as pd\n",
    "import pybaseball as pb\n",
    "# enable caching\n",
    "pb.cache.enable()"
   ]
  },
  {
   "cell_type": "code",
   "execution_count": 9,
   "metadata": {},
   "outputs": [
    {
     "name": "stdout",
     "output_type": "stream",
     "text": [
      "Gathering player lookup table. This may take a moment.\n"
     ]
    },
    {
     "data": {
      "text/html": [
       "<div>\n",
       "<style scoped>\n",
       "    .dataframe tbody tr th:only-of-type {\n",
       "        vertical-align: middle;\n",
       "    }\n",
       "\n",
       "    .dataframe tbody tr th {\n",
       "        vertical-align: top;\n",
       "    }\n",
       "\n",
       "    .dataframe thead th {\n",
       "        text-align: right;\n",
       "    }\n",
       "</style>\n",
       "<table border=\"1\" class=\"dataframe\">\n",
       "  <thead>\n",
       "    <tr style=\"text-align: right;\">\n",
       "      <th></th>\n",
       "      <th>name_last</th>\n",
       "      <th>name_first</th>\n",
       "      <th>key_mlbam</th>\n",
       "      <th>key_retro</th>\n",
       "      <th>key_bbref</th>\n",
       "      <th>key_fangraphs</th>\n",
       "      <th>mlb_played_first</th>\n",
       "      <th>mlb_played_last</th>\n",
       "    </tr>\n",
       "  </thead>\n",
       "  <tbody>\n",
       "    <tr>\n",
       "      <th>0</th>\n",
       "      <td>rogers</td>\n",
       "      <td>trevor</td>\n",
       "      <td>669432</td>\n",
       "      <td>roget003</td>\n",
       "      <td>rogertr01</td>\n",
       "      <td>-1</td>\n",
       "      <td>2020.0</td>\n",
       "      <td>2021.0</td>\n",
       "    </tr>\n",
       "  </tbody>\n",
       "</table>\n",
       "</div>"
      ],
      "text/plain": [
       "  name_last name_first  key_mlbam key_retro  key_bbref  key_fangraphs  \\\n",
       "0    rogers     trevor     669432  roget003  rogertr01             -1   \n",
       "\n",
       "   mlb_played_first  mlb_played_last  \n",
       "0            2020.0           2021.0  "
      ]
     },
     "execution_count": 9,
     "metadata": {},
     "output_type": "execute_result"
    }
   ],
   "source": [
    "# look up Trevor Rogers id\n",
    "pb.playerid_lookup(\"Rogers\", \"Trevor\")"
   ]
  },
  {
   "cell_type": "code",
   "execution_count": 12,
   "metadata": {},
   "outputs": [
    {
     "name": "stdout",
     "output_type": "stream",
     "text": [
      "Gathering Player Data\n"
     ]
    }
   ],
   "source": [
    "# gather all the statcast for the pitcher\n",
    "# use the key_mlbam value to identify the pitcher\n",
    "rogers_statcast_df = pb.statcast_pitcher(start_dt=\"2019-01-01\", end_dt='2021-4-28', player_id=669432)"
   ]
  },
  {
   "cell_type": "code",
   "execution_count": 33,
   "metadata": {},
   "outputs": [
    {
     "data": {
      "text/plain": [
       "(1253, 92)"
      ]
     },
     "execution_count": 33,
     "metadata": {},
     "output_type": "execute_result"
    }
   ],
   "source": [
    "# anything in here?\n",
    "rogers_statcast_df.shape"
   ]
  },
  {
   "cell_type": "code",
   "execution_count": 10,
   "metadata": {},
   "outputs": [
    {
     "data": {
      "text/html": [
       "<div>\n",
       "<style scoped>\n",
       "    .dataframe tbody tr th:only-of-type {\n",
       "        vertical-align: middle;\n",
       "    }\n",
       "\n",
       "    .dataframe tbody tr th {\n",
       "        vertical-align: top;\n",
       "    }\n",
       "\n",
       "    .dataframe thead th {\n",
       "        text-align: right;\n",
       "    }\n",
       "</style>\n",
       "<table border=\"1\" class=\"dataframe\">\n",
       "  <thead>\n",
       "    <tr style=\"text-align: right;\">\n",
       "      <th></th>\n",
       "      <th>name_last</th>\n",
       "      <th>name_first</th>\n",
       "      <th>key_mlbam</th>\n",
       "      <th>key_retro</th>\n",
       "      <th>key_bbref</th>\n",
       "      <th>key_fangraphs</th>\n",
       "      <th>mlb_played_first</th>\n",
       "      <th>mlb_played_last</th>\n",
       "    </tr>\n",
       "  </thead>\n",
       "  <tbody>\n",
       "    <tr>\n",
       "      <th>0</th>\n",
       "      <td>buxton</td>\n",
       "      <td>byron</td>\n",
       "      <td>621439</td>\n",
       "      <td>buxtb001</td>\n",
       "      <td>buxtoby01</td>\n",
       "      <td>14161</td>\n",
       "      <td>2015.0</td>\n",
       "      <td>2021.0</td>\n",
       "    </tr>\n",
       "  </tbody>\n",
       "</table>\n",
       "</div>"
      ],
      "text/plain": [
       "  name_last name_first  key_mlbam key_retro  key_bbref  key_fangraphs  \\\n",
       "0    buxton      byron     621439  buxtb001  buxtoby01          14161   \n",
       "\n",
       "   mlb_played_first  mlb_played_last  \n",
       "0            2015.0           2021.0  "
      ]
     },
     "execution_count": 10,
     "metadata": {},
     "output_type": "execute_result"
    }
   ],
   "source": [
    "# look up Byron Buxton id\n",
    "pb.playerid_lookup(\"Buxton\", \"Byron\")"
   ]
  },
  {
   "cell_type": "code",
   "execution_count": 30,
   "metadata": {},
   "outputs": [
    {
     "name": "stdout",
     "output_type": "stream",
     "text": [
      "Gathering Player Data\n"
     ]
    }
   ],
   "source": [
    "# gather all the statcast for the pitcher\n",
    "# use the key_mlbam value to identify the pitcher\n",
    "buxton_statcast_df = pb.statcast_batter(start_dt=\"2019-01-01\", end_dt='2021-4-28', player_id=621439)"
   ]
  },
  {
   "cell_type": "code",
   "execution_count": 31,
   "metadata": {},
   "outputs": [
    {
     "data": {
      "text/plain": [
       "(1820, 92)"
      ]
     },
     "execution_count": 31,
     "metadata": {},
     "output_type": "execute_result"
    }
   ],
   "source": [
    "# check the dimentions of the dataframe to make sure we got something\n",
    "buxton_statcast_df.shape"
   ]
  },
  {
   "cell_type": "code",
   "execution_count": 42,
   "metadata": {},
   "outputs": [
    {
     "data": {
      "text/html": [
       "<div>\n",
       "<style scoped>\n",
       "    .dataframe tbody tr th:only-of-type {\n",
       "        vertical-align: middle;\n",
       "    }\n",
       "\n",
       "    .dataframe tbody tr th {\n",
       "        vertical-align: top;\n",
       "    }\n",
       "\n",
       "    .dataframe thead th {\n",
       "        text-align: right;\n",
       "    }\n",
       "</style>\n",
       "<table border=\"1\" class=\"dataframe\">\n",
       "  <thead>\n",
       "    <tr style=\"text-align: right;\">\n",
       "      <th></th>\n",
       "      <th>pitch_type</th>\n",
       "      <th>game_date</th>\n",
       "      <th>release_speed</th>\n",
       "      <th>release_pos_x</th>\n",
       "      <th>release_pos_z</th>\n",
       "      <th>player_name</th>\n",
       "      <th>batter</th>\n",
       "      <th>pitcher</th>\n",
       "      <th>events</th>\n",
       "      <th>description</th>\n",
       "      <th>...</th>\n",
       "      <th>fld_score</th>\n",
       "      <th>post_away_score</th>\n",
       "      <th>post_home_score</th>\n",
       "      <th>post_bat_score</th>\n",
       "      <th>post_fld_score</th>\n",
       "      <th>if_fielding_alignment</th>\n",
       "      <th>of_fielding_alignment</th>\n",
       "      <th>spin_axis</th>\n",
       "      <th>delta_home_win_exp</th>\n",
       "      <th>delta_run_exp</th>\n",
       "    </tr>\n",
       "  </thead>\n",
       "  <tbody>\n",
       "    <tr>\n",
       "      <th>0</th>\n",
       "      <td>CU</td>\n",
       "      <td>2021-04-27</td>\n",
       "      <td>78.8</td>\n",
       "      <td>-0.60</td>\n",
       "      <td>6.25</td>\n",
       "      <td>Buxton, Byron</td>\n",
       "      <td>621439</td>\n",
       "      <td>650644</td>\n",
       "      <td>home_run</td>\n",
       "      <td>hit_into_play</td>\n",
       "      <td>...</td>\n",
       "      <td>5</td>\n",
       "      <td>4</td>\n",
       "      <td>5</td>\n",
       "      <td>4</td>\n",
       "      <td>5</td>\n",
       "      <td>Infield shift</td>\n",
       "      <td>Standard</td>\n",
       "      <td>44.0</td>\n",
       "      <td>-0.083</td>\n",
       "      <td>1.000</td>\n",
       "    </tr>\n",
       "    <tr>\n",
       "      <th>1</th>\n",
       "      <td>SL</td>\n",
       "      <td>2021-04-27</td>\n",
       "      <td>83.8</td>\n",
       "      <td>-0.66</td>\n",
       "      <td>6.10</td>\n",
       "      <td>Buxton, Byron</td>\n",
       "      <td>621439</td>\n",
       "      <td>650644</td>\n",
       "      <td>field_out</td>\n",
       "      <td>hit_into_play</td>\n",
       "      <td>...</td>\n",
       "      <td>3</td>\n",
       "      <td>3</td>\n",
       "      <td>3</td>\n",
       "      <td>3</td>\n",
       "      <td>3</td>\n",
       "      <td>Infield shift</td>\n",
       "      <td>Standard</td>\n",
       "      <td>94.0</td>\n",
       "      <td>0.014</td>\n",
       "      <td>-0.096</td>\n",
       "    </tr>\n",
       "    <tr>\n",
       "      <th>2</th>\n",
       "      <td>SL</td>\n",
       "      <td>2021-04-27</td>\n",
       "      <td>83.6</td>\n",
       "      <td>-0.73</td>\n",
       "      <td>6.08</td>\n",
       "      <td>Buxton, Byron</td>\n",
       "      <td>621439</td>\n",
       "      <td>650644</td>\n",
       "      <td>NaN</td>\n",
       "      <td>ball</td>\n",
       "      <td>...</td>\n",
       "      <td>3</td>\n",
       "      <td>3</td>\n",
       "      <td>3</td>\n",
       "      <td>3</td>\n",
       "      <td>3</td>\n",
       "      <td>Infield shift</td>\n",
       "      <td>Standard</td>\n",
       "      <td>93.0</td>\n",
       "      <td>0.000</td>\n",
       "      <td>0.018</td>\n",
       "    </tr>\n",
       "    <tr>\n",
       "      <th>3</th>\n",
       "      <td>FF</td>\n",
       "      <td>2021-04-27</td>\n",
       "      <td>91.5</td>\n",
       "      <td>-0.56</td>\n",
       "      <td>6.19</td>\n",
       "      <td>Buxton, Byron</td>\n",
       "      <td>621439</td>\n",
       "      <td>650644</td>\n",
       "      <td>NaN</td>\n",
       "      <td>ball</td>\n",
       "      <td>...</td>\n",
       "      <td>3</td>\n",
       "      <td>3</td>\n",
       "      <td>3</td>\n",
       "      <td>3</td>\n",
       "      <td>3</td>\n",
       "      <td>Infield shift</td>\n",
       "      <td>Standard</td>\n",
       "      <td>192.0</td>\n",
       "      <td>0.000</td>\n",
       "      <td>0.011</td>\n",
       "    </tr>\n",
       "    <tr>\n",
       "      <th>4</th>\n",
       "      <td>SL</td>\n",
       "      <td>2021-04-27</td>\n",
       "      <td>84.0</td>\n",
       "      <td>-0.63</td>\n",
       "      <td>6.13</td>\n",
       "      <td>Buxton, Byron</td>\n",
       "      <td>621439</td>\n",
       "      <td>650644</td>\n",
       "      <td>NaN</td>\n",
       "      <td>foul_tip</td>\n",
       "      <td>...</td>\n",
       "      <td>3</td>\n",
       "      <td>3</td>\n",
       "      <td>3</td>\n",
       "      <td>3</td>\n",
       "      <td>3</td>\n",
       "      <td>Infield shift</td>\n",
       "      <td>Standard</td>\n",
       "      <td>100.0</td>\n",
       "      <td>0.000</td>\n",
       "      <td>-0.027</td>\n",
       "    </tr>\n",
       "  </tbody>\n",
       "</table>\n",
       "<p>5 rows × 92 columns</p>\n",
       "</div>"
      ],
      "text/plain": [
       "  pitch_type   game_date  release_speed  release_pos_x  release_pos_z  \\\n",
       "0         CU  2021-04-27           78.8          -0.60           6.25   \n",
       "1         SL  2021-04-27           83.8          -0.66           6.10   \n",
       "2         SL  2021-04-27           83.6          -0.73           6.08   \n",
       "3         FF  2021-04-27           91.5          -0.56           6.19   \n",
       "4         SL  2021-04-27           84.0          -0.63           6.13   \n",
       "\n",
       "     player_name  batter  pitcher     events    description  ...  fld_score  \\\n",
       "0  Buxton, Byron  621439   650644   home_run  hit_into_play  ...          5   \n",
       "1  Buxton, Byron  621439   650644  field_out  hit_into_play  ...          3   \n",
       "2  Buxton, Byron  621439   650644        NaN           ball  ...          3   \n",
       "3  Buxton, Byron  621439   650644        NaN           ball  ...          3   \n",
       "4  Buxton, Byron  621439   650644        NaN       foul_tip  ...          3   \n",
       "\n",
       "   post_away_score  post_home_score  post_bat_score  post_fld_score  \\\n",
       "0                4                5               4               5   \n",
       "1                3                3               3               3   \n",
       "2                3                3               3               3   \n",
       "3                3                3               3               3   \n",
       "4                3                3               3               3   \n",
       "\n",
       "  if_fielding_alignment of_fielding_alignment spin_axis delta_home_win_exp  \\\n",
       "0         Infield shift              Standard      44.0             -0.083   \n",
       "1         Infield shift              Standard      94.0              0.014   \n",
       "2         Infield shift              Standard      93.0              0.000   \n",
       "3         Infield shift              Standard     192.0              0.000   \n",
       "4         Infield shift              Standard     100.0              0.000   \n",
       "\n",
       "  delta_run_exp  \n",
       "0         1.000  \n",
       "1        -0.096  \n",
       "2         0.018  \n",
       "3         0.011  \n",
       "4        -0.027  \n",
       "\n",
       "[5 rows x 92 columns]"
      ]
     },
     "execution_count": 42,
     "metadata": {},
     "output_type": "execute_result"
    }
   ],
   "source": [
    "buxton_statcast_df.head()"
   ]
  },
  {
   "cell_type": "markdown",
   "metadata": {},
   "source": [
    "## How to do a pitcher vs batter statcast search"
   ]
  },
  {
   "cell_type": "code",
   "execution_count": 25,
   "metadata": {},
   "outputs": [
    {
     "data": {
      "text/html": [
       "<div>\n",
       "<style scoped>\n",
       "    .dataframe tbody tr th:only-of-type {\n",
       "        vertical-align: middle;\n",
       "    }\n",
       "\n",
       "    .dataframe tbody tr th {\n",
       "        vertical-align: top;\n",
       "    }\n",
       "\n",
       "    .dataframe thead th {\n",
       "        text-align: right;\n",
       "    }\n",
       "</style>\n",
       "<table border=\"1\" class=\"dataframe\">\n",
       "  <thead>\n",
       "    <tr style=\"text-align: right;\">\n",
       "      <th></th>\n",
       "      <th>name_last</th>\n",
       "      <th>name_first</th>\n",
       "      <th>key_mlbam</th>\n",
       "      <th>key_retro</th>\n",
       "      <th>key_bbref</th>\n",
       "      <th>key_fangraphs</th>\n",
       "      <th>mlb_played_first</th>\n",
       "      <th>mlb_played_last</th>\n",
       "    </tr>\n",
       "  </thead>\n",
       "  <tbody>\n",
       "    <tr>\n",
       "      <th>0</th>\n",
       "      <td>nimmo</td>\n",
       "      <td>brandon</td>\n",
       "      <td>607043</td>\n",
       "      <td>nimmb001</td>\n",
       "      <td>nimmobr01</td>\n",
       "      <td>12927</td>\n",
       "      <td>2016.0</td>\n",
       "      <td>2021.0</td>\n",
       "    </tr>\n",
       "  </tbody>\n",
       "</table>\n",
       "</div>"
      ],
      "text/plain": [
       "  name_last name_first  key_mlbam key_retro  key_bbref  key_fangraphs  \\\n",
       "0     nimmo    brandon     607043  nimmb001  nimmobr01          12927   \n",
       "\n",
       "   mlb_played_first  mlb_played_last  \n",
       "0            2016.0           2021.0  "
      ]
     },
     "execution_count": 25,
     "metadata": {},
     "output_type": "execute_result"
    }
   ],
   "source": [
    "# look up Brandon Nimmo\n",
    "pb.playerid_lookup(\"Nimmo\", \"Brandon\")"
   ]
  },
  {
   "cell_type": "code",
   "execution_count": 26,
   "metadata": {},
   "outputs": [],
   "source": [
    "# now filter down the dataframe to only pitches to the batter\n",
    "# again using the key_mlbam value for the batter\n",
    "rogers_vs_nimmo = rogers_statcast_df.query(\"batter == 607043\")"
   ]
  },
  {
   "cell_type": "code",
   "execution_count": 29,
   "metadata": {},
   "outputs": [
    {
     "data": {
      "text/plain": [
       "(28, 92)"
      ]
     },
     "execution_count": 29,
     "metadata": {},
     "output_type": "execute_result"
    }
   ],
   "source": [
    "# what does it look like?\n",
    "rogers_vs_nimmo.shape"
   ]
  },
  {
   "cell_type": "code",
   "execution_count": 41,
   "metadata": {},
   "outputs": [
    {
     "data": {
      "text/plain": [
       "<matplotlib.axes._subplots.AxesSubplot at 0x7f532a401a90>"
      ]
     },
     "execution_count": 41,
     "metadata": {},
     "output_type": "execute_result"
    },
    {
     "data": {
      "image/png": "[encoded data removed]",
      "text/plain": [
       "<Figure size 432x288 with 1 Axes>"
      ]
     },
     "metadata": {},
     "output_type": "display_data"
    }
   ],
   "source": [
    "# simple plot as an example\n",
    "rogers_vs_nimmo.pitch_type.value_counts().plot(kind=\"pie\", legend=True)"
   ]
  },
  {
   "cell_type": "code",
   "execution_count": null,
   "metadata": {},
   "outputs": [],
   "source": []
  }
 ],
 "metadata": {
  "kernelspec": {
   "display_name": "Python 3",
   "language": "python",
   "name": "python3"
  },
  "language_info": {
   "codemirror_mode": {
    "name": "ipython",
    "version": 3
   },
   "file_extension": ".py",
   "mimetype": "text/x-python",
   "name": "python",
   "nbconvert_exporter": "python",
   "pygments_lexer": "ipython3",
   "version": "3.7.9"
  }
 },
 "nbformat": 4,
 "nbformat_minor": 4
}
