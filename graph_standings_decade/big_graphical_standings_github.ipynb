{
 "cells": [
  {
   "cell_type": "code",
   "execution_count": 1,
   "metadata": {},
   "outputs": [
    {
     "name": "stdout",
     "output_type": "stream",
     "text": [
      "im calling bref now\n"
     ]
    }
   ],
   "source": [
    "from sportsref.baseball import Franchise\n",
    "from sportsref.baseball.util import get_frans"
   ]
  },
  {
   "cell_type": "code",
   "execution_count": 9,
   "metadata": {},
   "outputs": [],
   "source": [
    "import pandas as pd"
   ]
  },
  {
   "cell_type": "code",
   "execution_count": 21,
   "metadata": {},
   "outputs": [],
   "source": [
    "def win_over_500(col):\n",
    "    return int(col.split(\"-\")[0]) - int(col.split(\"-\")[1])"
   ]
  },
  {
   "cell_type": "code",
   "execution_count": 53,
   "metadata": {},
   "outputs": [],
   "source": [
    "def fran_schedule(fran, start_year):\n",
    "    df_lst = []\n",
    "    fran = Franchise(fran)\n",
    "    for year in range(start_year, 2020):\n",
    "        df = fran.season(year).schedule_results()\n",
    "        df[\"team\"] = fran\n",
    "        df[\"year\"] = year\n",
    "        df_lst.append(df)\n",
    "    return pd.concat(df_lst)"
   ]
  },
  {
   "cell_type": "code",
   "execution_count": 57,
   "metadata": {},
   "outputs": [],
   "source": [
    "## this will take a while\n",
    "big_df = pd.concat([ fran_schedule(fran, 2010) for fran in get_frans().abbr])"
   ]
  },
  {
   "cell_type": "code",
   "execution_count": 78,
   "metadata": {},
   "outputs": [],
   "source": [
    "big_df[\"W\"] = (big_df[\"W/L\"].str.slice(0) == \"W\") * 1\n",
    "big_df[\"L\"] = (big_df[\"W/L\"].str.slice(0) == \"L\") * 1"
   ]
  },
  {
   "cell_type": "code",
   "execution_count": 79,
   "metadata": {},
   "outputs": [],
   "source": [
    "big_df[\"idx\"] = big_df.year.map(str) + big_df[\"Gm#\"].astype(str).str.zfill(3)"
   ]
  },
  {
   "cell_type": "code",
   "execution_count": 129,
   "metadata": {},
   "outputs": [],
   "source": [
    "df = big_df.groupby([\"team\", \"year\", \"Gm#\"])[[\"W\", \"L\"]].sum().groupby(level=[0])[[\"W\",\"L\"]].cumsum()"
   ]
  },
  {
   "cell_type": "code",
   "execution_count": 132,
   "metadata": {},
   "outputs": [],
   "source": [
    "out_df = df.reset_index()"
   ]
  },
  {
   "cell_type": "code",
   "execution_count": 147,
   "metadata": {},
   "outputs": [],
   "source": [
    "out_df[\"idx\"] = out_df.year.map(str) + \"-\" + out_df[\"Gm#\"].astype(str).str.zfill(3)"
   ]
  },
  {
   "cell_type": "code",
   "execution_count": 148,
   "metadata": {},
   "outputs": [],
   "source": [
    "out_df[\"above_500\"] = out_df.W - out_df.L"
   ]
  },
  {
   "cell_type": "code",
   "execution_count": 150,
   "metadata": {},
   "outputs": [],
   "source": [
    "out_df = out_df.fillna(method=\"ffill\")"
   ]
  },
  {
   "cell_type": "code",
   "execution_count": 154,
   "metadata": {},
   "outputs": [],
   "source": [
    "out_df.pivot(index=\"team\", columns=\"idx\", values=\"above_500\").to_csv(\"2010s-wins_above_500.csv\")"
   ]
  },
  {
   "cell_type": "code",
   "execution_count": 162,
   "metadata": {},
   "outputs": [],
   "source": [
    "out=pd.concat([out_df.pivot(index=\"team\", columns=\"idx\", values=\"above_500\").max(axis=1),out_df.pivot(index=\"team\", columns=\"idx\", values=\"above_500\").min(axis=1)], axis=1)"
   ]
  },
  {
   "cell_type": "code",
   "execution_count": 164,
   "metadata": {},
   "outputs": [
    {
     "name": "stdout",
     "output_type": "stream",
     "text": [
      "| team   |   apex |   nadir |   diff |\n",
      "|:-------|-------:|--------:|-------:|\n",
      "| ANA    |     57 |     -11 |     68 |\n",
      "| ARI    |      9 |     -64 |     73 |\n",
      "| ATL    |     88 |      -7 |     95 |\n",
      "| BAL    |     20 |    -120 |    140 |\n",
      "| BOS    |    131 |      -6 |    137 |\n",
      "| CHC    |     16 |    -119 |    135 |\n",
      "| CHW    |     34 |    -119 |    153 |\n",
      "| CIN    |     70 |     -54 |    124 |\n",
      "| CLE    |     84 |     -65 |    149 |\n",
      "| COL    |     15 |    -121 |    136 |\n",
      "| DET    |    101 |     -39 |    140 |\n",
      "| FLA    |      3 |    -200 |    203 |\n",
      "| HOU    |     -1 |    -180 |    179 |\n",
      "| KCR    |     -1 |    -112 |    111 |\n",
      "| LAD    |    205 |     -19 |    224 |\n",
      "| MIL    |     33 |     -29 |     62 |\n",
      "| MIN    |     30 |    -139 |    169 |\n",
      "| NYM    |     17 |     -45 |     62 |\n",
      "| NYY    |    226 |      -1 |    227 |\n",
      "| OAK    |     62 |     -21 |     83 |\n",
      "| PHI    |     75 |     -59 |    134 |\n",
      "| PIT    |     10 |     -73 |     83 |\n",
      "| SDP    |     22 |    -141 |    163 |\n",
      "| SEA    |      4 |     -71 |     75 |\n",
      "| SFG    |     80 |       1 |     79 |\n",
      "| STL    |    189 |       1 |    188 |\n",
      "| TBD    |     91 |      -1 |     92 |\n",
      "| TEX    |    104 |      -3 |    107 |\n",
      "| TOR    |     32 |     -27 |     59 |\n",
      "| WSN    |    124 |     -36 |    160 |\n"
     ]
    }
   ],
   "source": [
    "out.columns = [\"apex\", \"nadir\"]\n",
    "print(out.assign(diff=lambda x: x.apex - x.nadir).to_markdown())"
   ]
  }
 ],
 "metadata": {
  "kernelspec": {
   "display_name": "Python 3",
   "language": "python",
   "name": "python3"
  },
  "language_info": {
   "codemirror_mode": {
    "name": "ipython",
    "version": 3
   },
   "file_extension": ".py",
   "mimetype": "text/x-python",
   "name": "python",
   "nbconvert_exporter": "python",
   "pygments_lexer": "ipython3",
   "version": "3.7.4"
  }
 },
 "nbformat": 4,
 "nbformat_minor": 4
}
