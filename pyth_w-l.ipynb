{
 "cells": [
  {
   "cell_type": "code",
   "execution_count": 106,
   "metadata": {},
   "outputs": [],
   "source": [
    "import pybaseball as pb\n",
    "import pandas as pd\n",
    "import numpy as np\n",
    "pd.set_option(\"display.max_columns\",100)\n",
    "import tabulate\n",
    "\n"
   ]
  },
  {
   "cell_type": "code",
   "execution_count": 9,
   "metadata": {},
   "outputs": [],
   "source": [
    "teams = pb.lahman.teams()"
   ]
  },
  {
   "cell_type": "code",
   "execution_count": 189,
   "metadata": {},
   "outputs": [],
   "source": [
    "def expected_wins(row):\n",
    "    exp_w_pct = (row.R ** 1.81)/(row.R ** 1.81 + row.RA  ** 1.81)\n",
    "    return np.round(exp_w_pct * 162)\n",
    "\n",
    "\n",
    "def pprint_df(df, drop_index=True):\n",
    "    return tabulate.tabulate(df.reset_index(drop=drop_index).fillna(0).values, df.columns, tablefmt=\"pipe\")"
   ]
  },
  {
   "cell_type": "code",
   "execution_count": 190,
   "metadata": {},
   "outputs": [],
   "source": [
    "teams_2010 = teams.query(\"yearID >= 2010\")"
   ]
  },
  {
   "cell_type": "code",
   "execution_count": 191,
   "metadata": {},
   "outputs": [
    {
     "name": "stderr",
     "output_type": "stream",
     "text": [
      "/home/jup/miniconda3/envs/jup/lib/python3.7/site-packages/ipykernel_launcher.py:1: SettingWithCopyWarning: \n",
      "A value is trying to be set on a copy of a slice from a DataFrame.\n",
      "Try using .loc[row_indexer,col_indexer] = value instead\n",
      "\n",
      "See the caveats in the documentation: http://pandas.pydata.org/pandas-docs/stable/user_guide/indexing.html#returning-a-view-versus-a-copy\n",
      "  \"\"\"Entry point for launching an IPython kernel.\n"
     ]
    }
   ],
   "source": [
    "teams_2010[\"exp_w\"] = teams_2010.apply(expected_wins, axis=1)"
   ]
  },
  {
   "cell_type": "code",
   "execution_count": 192,
   "metadata": {},
   "outputs": [
    {
     "name": "stderr",
     "output_type": "stream",
     "text": [
      "/home/jup/miniconda3/envs/jup/lib/python3.7/site-packages/ipykernel_launcher.py:1: SettingWithCopyWarning: \n",
      "A value is trying to be set on a copy of a slice from a DataFrame.\n",
      "Try using .loc[row_indexer,col_indexer] = value instead\n",
      "\n",
      "See the caveats in the documentation: http://pandas.pydata.org/pandas-docs/stable/user_guide/indexing.html#returning-a-view-versus-a-copy\n",
      "  \"\"\"Entry point for launching an IPython kernel.\n"
     ]
    }
   ],
   "source": [
    "teams_2010[\"diff\"] = teams_2010.W - teams_2010.exp_w"
   ]
  },
  {
   "cell_type": "code",
   "execution_count": 193,
   "metadata": {},
   "outputs": [],
   "source": [
    "under_achievers = teams_2010.sort_values(\"diff\", ascending=True)[[\"yearID\", \"teamIDBR\", \"W\", \"exp_w\", \"diff\"]].head(15)"
   ]
  },
  {
   "cell_type": "code",
   "execution_count": 194,
   "metadata": {},
   "outputs": [],
   "source": [
    "over_achievers = teams_2010.sort_values(\"diff\", ascending=False)[[\"yearID\", \"teamIDBR\", \"W\", \"exp_w\", \"diff\"]].head(15)"
   ]
  },
  {
   "cell_type": "code",
   "execution_count": 195,
   "metadata": {},
   "outputs": [
    {
     "name": "stdout",
     "output_type": "stream",
     "text": [
      "|   yearID | teamIDBR   |   W |   exp_w |   diff |\n",
      "|---------:|:-----------|----:|--------:|-------:|\n",
      "|     2014 | OAK        |  88 |      98 |    -10 |\n",
      "|     2015 | OAK        |  68 |      77 |     -9 |\n",
      "|     2014 | COL        |  66 |      75 |     -9 |\n",
      "|     2018 | LAD        |  92 |     101 |     -9 |\n",
      "|     2017 | NYY        |  91 |     100 |     -9 |\n",
      "|     2016 | TBR        |  68 |      77 |     -9 |\n",
      "|     2018 | WSN        |  82 |      90 |     -8 |\n",
      "|     2018 | BAL        |  47 |      55 |     -8 |\n",
      "|     2015 | TOR        |  93 |     101 |     -8 |\n",
      "|     2011 | SDP        |  71 |      79 |     -8 |\n",
      "|     2018 | CLE        |  91 |      98 |     -7 |\n",
      "|     2015 | HOU        |  86 |      93 |     -7 |\n",
      "|     2011 | KCR        |  71 |      78 |     -7 |\n",
      "|     2016 | MIN        |  59 |      66 |     -7 |\n",
      "|     2013 | HOU        |  51 |      58 |     -7 |\n"
     ]
    }
   ],
   "source": [
    "print(pprint_df(under_achievers))"
   ]
  },
  {
   "cell_type": "code",
   "execution_count": 196,
   "metadata": {},
   "outputs": [
    {
     "name": "stdout",
     "output_type": "stream",
     "text": [
      "|   yearID | teamIDBR   |   W |   exp_w |   diff |\n",
      "|---------:|:-----------|----:|--------:|-------:|\n",
      "|     2016 | TEX        |  95 |      82 |     13 |\n",
      "|     2018 | SEA        |  89 |      77 |     12 |\n",
      "|     2017 | SDP        |  71 |      59 |     12 |\n",
      "|     2012 | BAL        |  93 |      82 |     11 |\n",
      "|     2016 | PHI        |  71 |      62 |      9 |\n",
      "|     2010 | HOU        |  76 |      68 |      8 |\n",
      "|     2019 | MIL        |  89 |      81 |      8 |\n",
      "|     2017 | KCR        |  80 |      72 |      8 |\n",
      "|     2011 | DET        |  95 |      88 |      7 |\n",
      "|     2014 | NYY        |  84 |      77 |      7 |\n",
      "|     2013 | PHI        |  73 |      66 |      7 |\n",
      "|     2012 | CIN        |  97 |      90 |      7 |\n",
      "|     2014 | STL        |  90 |      83 |      7 |\n",
      "|     2018 | COL        |  91 |      84 |      7 |\n",
      "|     2015 | CHC        |  97 |      90 |      7 |\n"
     ]
    }
   ],
   "source": [
    "print(pprint_df(over_achievers))"
   ]
  },
  {
   "cell_type": "code",
   "execution_count": null,
   "metadata": {},
   "outputs": [],
   "source": []
  }
 ],
 "metadata": {
  "kernelspec": {
   "display_name": "Python 3",
   "language": "python",
   "name": "python3"
  },
  "language_info": {
   "codemirror_mode": {
    "name": "ipython",
    "version": 3
   },
   "file_extension": ".py",
   "mimetype": "text/x-python",
   "name": "python",
   "nbconvert_exporter": "python",
   "pygments_lexer": "ipython3",
   "version": "3.7.4"
  }
 },
 "nbformat": 4,
 "nbformat_minor": 4
}
