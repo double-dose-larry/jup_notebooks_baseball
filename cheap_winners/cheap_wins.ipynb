{
 "cells": [
  {
   "cell_type": "code",
   "execution_count": 194,
   "metadata": {},
   "outputs": [],
   "source": [
    "\n",
    "\n",
    "# this notebook requires my baseball-reference scraping library called sportsref.\n",
    "# uncomment next line and run this cell to install:\n",
    "# !pip install git+https://github.com/double-dose-larry/sportsref\n",
    "\n"
   ]
  },
  {
   "cell_type": "code",
   "execution_count": 1,
   "metadata": {},
   "outputs": [],
   "source": [
    "import pandas as pd\n",
    "import numpy as np\n",
    "import altair as alt\n",
    "\n",
    "from sportsref.baseball import Player"
   ]
  },
  {
   "cell_type": "code",
   "execution_count": 59,
   "metadata": {},
   "outputs": [],
   "source": [
    "def get_starting_stats(pitcher):\n",
    "    try:\n",
    "        df = Player(pitcher,verbose=False).advanced_pages('pitch').get_df(\"pitching_starter\")\n",
    "        df = df.query(\"Tm != 'TOT'\").dropna()\n",
    "        df[\"name\"] = pitcher\n",
    "        return df\n",
    "    except:\n",
    "        pass"
   ]
  },
  {
   "cell_type": "code",
   "execution_count": 60,
   "metadata": {},
   "outputs": [],
   "source": [
    "# get the active win list\n",
    "active_w = pd.read_html(\"https://www.baseball-reference.com/leaders/W_active.shtml\")[0]"
   ]
  },
  {
   "cell_type": "code",
   "execution_count": 61,
   "metadata": {},
   "outputs": [],
   "source": [
    "# clean the win list a bit\n",
    "active_w[\"name\"] = (active_w[\"Player (yrs, age)\"]\n",
    "                        .str.split(\"(\")\n",
    "                        .apply(pd.Series)[0]\n",
    "                        .str.replace(\"\\xa0\", \" \")\n",
    "                        .str.strip())"
   ]
  },
  {
   "cell_type": "code",
   "execution_count": 62,
   "metadata": {},
   "outputs": [],
   "source": [
    "# get the player names\n",
    "names = active_w.name"
   ]
  },
  {
   "cell_type": "code",
   "execution_count": null,
   "metadata": {},
   "outputs": [],
   "source": [
    "%%time\n",
    "# scrape the starting pitching statistics from bref\n",
    "# this took me 3 and a half minutes. don't mind all the junk this will spit out, I gotta fix my library\n",
    "df = pd.concat([\n",
    "    get_starting_stats(p)\n",
    "    for p in names\n",
    "])"
   ]
  },
  {
   "cell_type": "code",
   "execution_count": 210,
   "metadata": {},
   "outputs": [],
   "source": [
    "# aggregate needed columns on a career level\n",
    "career_df = df.groupby(\"name\")[[\"GS\", \"Wgs\", \"Lgs\", \"Wchp\", \"Ltuf\"]].sum()"
   ]
  },
  {
   "cell_type": "code",
   "execution_count": 211,
   "metadata": {},
   "outputs": [],
   "source": [
    "# add percentages and group columns\n",
    "career_df[\"cheap_win_pct\"] = career_df.Wchp / career_df.Wgs\n",
    "career_df[\"tuff_loss_pct\"] = career_df.Ltuf / career_df.Lgs\n",
    "career_df[\"tuff_loser_cheap_winner\"] = np.where(career_df.cheap_win_pct >= .35,\"Cheap Winners\",\"Everyone Else\")\n",
    "career_df[\"tuff_loser_cheap_winner\"] = np.where(career_df.tuff_loss_pct >= .35,\"Tough Losers\", career_df.tuff_loser_cheap_winner)"
   ]
  },
  {
   "cell_type": "code",
   "execution_count": 212,
   "metadata": {},
   "outputs": [],
   "source": [
    "# get only those that started at least 100 games\n",
    "career_df = career_df.reset_index().query(\"GS >= 100\")"
   ]
  },
  {
   "cell_type": "code",
   "execution_count": 213,
   "metadata": {},
   "outputs": [],
   "source": [
    "# pretty names for columns\n",
    "career_df.columns = [\"Name\",\"Games Started\", \n",
    "                     \"Wins from starts\", \"Losses from starts\",\n",
    "                     \"Cheap Wins\", \"Tough Losses\", \n",
    "                     \"cheap_win_pct\", \"tuff_loss_pct\", \"Group\"]"
   ]
  },
  {
   "cell_type": "code",
   "execution_count": 248,
   "metadata": {},
   "outputs": [
    {
     "data": {
      "text/html": [
       "\n",
       "<div id=\"altair-viz-e351edab533e437b84448e5902de84fc\"></div>\n",
       "<script type=\"text/javascript\">\n",
       "  (function(spec, embedOpt){\n",
       "    let outputDiv = document.currentScript.previousElementSibling;\n",
       "    if (outputDiv.id !== \"altair-viz-e351edab533e437b84448e5902de84fc\") {\n",
       "      outputDiv = document.getElementById(\"altair-viz-e351edab533e437b84448e5902de84fc\");\n",
       "    }\n",
       "    const paths = {\n",
       "      \"vega\": \"https://cdn.jsdelivr.net/npm//vega@5?noext\",\n",
       "      \"vega-lib\": \"https://cdn.jsdelivr.net/npm//vega-lib?noext\",\n",
       "      \"vega-lite\": \"https://cdn.jsdelivr.net/npm//vega-lite@4.8.1?noext\",\n",
       "      \"vega-embed\": \"https://cdn.jsdelivr.net/npm//vega-embed@6?noext\",\n",
       "    };\n",
       "\n",
       "    function loadScript(lib) {\n",
       "      return new Promise(function(resolve, reject) {\n",
       "        var s = document.createElement('script');\n",
       "        s.src = paths[lib];\n",
       "        s.async = true;\n",
       "        s.onload = () => resolve(paths[lib]);\n",
       "        s.onerror = () => reject(`Error loading script: ${paths[lib]}`);\n",
       "        document.getElementsByTagName(\"head\")[0].appendChild(s);\n",
       "      });\n",
       "    }\n",
       "\n",
       "    function showError(err) {\n",
       "      outputDiv.innerHTML = `<div class=\"error\" style=\"color:red;\">${err}</div>`;\n",
       "      throw err;\n",
       "    }\n",
       "\n",
       "    function displayChart(vegaEmbed) {\n",
       "      vegaEmbed(outputDiv, spec, embedOpt)\n",
       "        .catch(err => showError(`Javascript Error: ${err.message}<br>This usually means there's a typo in your chart specification. See the javascript console for the full traceback.`));\n",
       "    }\n",
       "\n",
       "    if(typeof define === \"function\" && define.amd) {\n",
       "      requirejs.config({paths});\n",
       "      require([\"vega-embed\"], displayChart, err => showError(`Error loading script: ${err.message}`));\n",
       "    } else if (typeof vegaEmbed === \"function\") {\n",
       "      displayChart(vegaEmbed);\n",
       "    } else {\n",
       "      loadScript(\"vega\")\n",
       "        .then(() => loadScript(\"vega-lite\"))\n",
       "        .then(() => loadScript(\"vega-embed\"))\n",
       "        .catch(showError)\n",
       "        .then(() => displayChart(vegaEmbed));\n",
       "    }\n",
       "  })({\"config\": {\"view\": {\"continuousWidth\": 400, \"continuousHeight\": 300}}, \"layer\": [{\"mark\": {\"type\": \"circle\", \"size\": 100}, \"encoding\": {\"color\": {\"type\": \"nominal\", \"field\": \"Group\", \"legend\": {\"orient\": \"bottom-left\", \"title\": null}}, \"tooltip\": [{\"type\": \"nominal\", \"field\": \"Name\"}, {\"type\": \"quantitative\", \"field\": \"Games Started\"}, {\"type\": \"quantitative\", \"field\": \"Wins from starts\"}, {\"type\": \"quantitative\", \"field\": \"Losses from starts\"}, {\"type\": \"quantitative\", \"field\": \"Cheap Wins\"}, {\"type\": \"quantitative\", \"field\": \"Tough Losses\"}], \"x\": {\"type\": \"quantitative\", \"axis\": {\"format\": \"%\", \"title\": \"Percent of Wins in Not Quality Starts\"}, \"field\": \"cheap_win_pct\"}, \"y\": {\"type\": \"quantitative\", \"axis\": {\"format\": \"%\", \"title\": \"Percent of Losses in Quality Starts\"}, \"field\": \"tuff_loss_pct\"}}}, {\"mark\": {\"type\": \"text\", \"align\": \"left\", \"baseline\": \"middle\", \"dx\": 7, \"dy\": 2, \"fontSize\": 12}, \"encoding\": {\"text\": {\"type\": \"nominal\", \"field\": \"Name\"}, \"x\": {\"type\": \"quantitative\", \"field\": \"cheap_win_pct\"}, \"y\": {\"type\": \"quantitative\", \"field\": \"tuff_loss_pct\"}}, \"transform\": [{\"filter\": \"((datum.cheap_win_pct >= 0.4) || (datum.tuff_loss_pct >= 0.4))\"}]}], \"data\": {\"name\": \"data-ee22fc48fbe63fbab5436a2dc1fee345\"}, \"height\": 600, \"title\": \"Active Starters with 100+ Games Started\", \"width\": 600, \"$schema\": \"https://vega.github.io/schema/vega-lite/v4.8.1.json\", \"datasets\": {\"data-ee22fc48fbe63fbab5436a2dc1fee345\": [{\"Name\": \"Aaron Nola\", \"Games Started\": 127.0, \"Wins from starts\": 53.0, \"Losses from starts\": 35.0, \"Cheap Wins\": 8.0, \"Tough Losses\": 12.0, \"cheap_win_pct\": 0.1509433962264151, \"tuff_loss_pct\": 0.34285714285714286, \"Group\": \"Everyone Else\"}, {\"Name\": \"Adam Wainwright\", \"Games Started\": 316.0, \"Wins from starts\": 160.0, \"Losses from starts\": 94.0, \"Cheap Wins\": 32.0, \"Tough Losses\": 33.0, \"cheap_win_pct\": 0.2, \"tuff_loss_pct\": 0.35106382978723405, \"Group\": \"Tough Losers\"}, {\"Name\": \"Alex Cobb\", \"Games Started\": 146.0, \"Wins from starts\": 53.0, \"Losses from starts\": 52.0, \"Cheap Wins\": 9.0, \"Tough Losses\": 18.0, \"cheap_win_pct\": 0.16981132075471697, \"tuff_loss_pct\": 0.34615384615384615, \"Group\": \"Everyone Else\"}, {\"Name\": \"Alex Wood\", \"Games Started\": 136.0, \"Wins from starts\": 48.0, \"Losses from starts\": 41.0, \"Cheap Wins\": 11.0, \"Tough Losses\": 13.0, \"cheap_win_pct\": 0.22916666666666666, \"tuff_loss_pct\": 0.3170731707317073, \"Group\": \"Everyone Else\"}, {\"Name\": \"Anibal Sanchez\", \"Games Started\": 316.0, \"Wins from starts\": 106.0, \"Losses from starts\": 107.0, \"Cheap Wins\": 21.0, \"Tough Losses\": 31.0, \"cheap_win_pct\": 0.19811320754716982, \"tuff_loss_pct\": 0.2897196261682243, \"Group\": \"Everyone Else\"}, {\"Name\": \"Bartolo Colon\", \"Games Started\": 552.0, \"Wins from starts\": 246.0, \"Losses from starts\": 187.0, \"Cheap Wins\": 51.0, \"Tough Losses\": 48.0, \"cheap_win_pct\": 0.2073170731707317, \"tuff_loss_pct\": 0.25668449197860965, \"Group\": \"Everyone Else\"}, {\"Name\": \"Brandon Morrow\", \"Games Started\": 113.0, \"Wins from starts\": 40.0, \"Losses from starts\": 33.0, \"Cheap Wins\": 6.0, \"Tough Losses\": 5.0, \"cheap_win_pct\": 0.15, \"tuff_loss_pct\": 0.15151515151515152, \"Group\": \"Everyone Else\"}, {\"Name\": \"Brett Anderson\", \"Games Started\": 176.0, \"Wins from starts\": 58.0, \"Losses from starts\": 61.0, \"Cheap Wins\": 14.0, \"Tough Losses\": 16.0, \"cheap_win_pct\": 0.2413793103448276, \"tuff_loss_pct\": 0.26229508196721313, \"Group\": \"Everyone Else\"}, {\"Name\": \"Bud Norris\", \"Games Started\": 188.0, \"Wins from starts\": 61.0, \"Losses from starts\": 70.0, \"Cheap Wins\": 19.0, \"Tough Losses\": 15.0, \"cheap_win_pct\": 0.3114754098360656, \"tuff_loss_pct\": 0.21428571428571427, \"Group\": \"Everyone Else\"}, {\"Name\": \"Carlos Carrasco\", \"Games Started\": 183.0, \"Wins from starts\": 78.0, \"Losses from starts\": 66.0, \"Cheap Wins\": 19.0, \"Tough Losses\": 17.0, \"cheap_win_pct\": 0.24358974358974358, \"tuff_loss_pct\": 0.25757575757575757, \"Group\": \"Everyone Else\"}, {\"Name\": \"Carlos Martinez\", \"Games Started\": 118.0, \"Wins from starts\": 50.0, \"Losses from starts\": 34.0, \"Cheap Wins\": 7.0, \"Tough Losses\": 6.0, \"cheap_win_pct\": 0.14, \"tuff_loss_pct\": 0.17647058823529413, \"Group\": \"Everyone Else\"}, {\"Name\": \"Charlie Morton\", \"Games Started\": 249.0, \"Wins from starts\": 91.0, \"Losses from starts\": 87.0, \"Cheap Wins\": 26.0, \"Tough Losses\": 24.0, \"cheap_win_pct\": 0.2857142857142857, \"tuff_loss_pct\": 0.27586206896551724, \"Group\": \"Everyone Else\"}, {\"Name\": \"Chase Anderson\", \"Games Started\": 160.0, \"Wins from starts\": 52.0, \"Losses from starts\": 40.0, \"Cheap Wins\": 25.0, \"Tough Losses\": 6.0, \"cheap_win_pct\": 0.4807692307692308, \"tuff_loss_pct\": 0.15, \"Group\": \"Cheap Winners\"}, {\"Name\": \"Chris Archer\", \"Games Started\": 210.0, \"Wins from starts\": 60.0, \"Losses from starts\": 79.0, \"Cheap Wins\": 12.0, \"Tough Losses\": 21.0, \"cheap_win_pct\": 0.2, \"tuff_loss_pct\": 0.26582278481012656, \"Group\": \"Everyone Else\"}, {\"Name\": \"Chris Sale\", \"Games Started\": 232.0, \"Wins from starts\": 105.0, \"Losses from starts\": 70.0, \"Cheap Wins\": 10.0, \"Tough Losses\": 28.0, \"cheap_win_pct\": 0.09523809523809523, \"tuff_loss_pct\": 0.4, \"Group\": \"Tough Losers\"}, {\"Name\": \"Clayton Kershaw\", \"Games Started\": 344.0, \"Wins from starts\": 169.0, \"Losses from starts\": 74.0, \"Cheap Wins\": 13.0, \"Tough Losses\": 33.0, \"cheap_win_pct\": 0.07692307692307693, \"tuff_loss_pct\": 0.44594594594594594, \"Group\": \"Tough Losers\"}, {\"Name\": \"Cole Hamels\", \"Games Started\": 421.0, \"Wins from starts\": 163.0, \"Losses from starts\": 121.0, \"Cheap Wins\": 25.0, \"Tough Losses\": 44.0, \"cheap_win_pct\": 0.15337423312883436, \"tuff_loss_pct\": 0.36363636363636365, \"Group\": \"Tough Losers\"}, {\"Name\": \"Collin McHugh\", \"Games Started\": 119.0, \"Wins from starts\": 51.0, \"Losses from starts\": 39.0, \"Cheap Wins\": 14.0, \"Tough Losses\": 10.0, \"cheap_win_pct\": 0.27450980392156865, \"tuff_loss_pct\": 0.2564102564102564, \"Group\": \"Everyone Else\"}, {\"Name\": \"Corey Kluber\", \"Games Started\": 203.0, \"Wins from starts\": 97.0, \"Losses from starts\": 58.0, \"Cheap Wins\": 10.0, \"Tough Losses\": 16.0, \"cheap_win_pct\": 0.10309278350515463, \"tuff_loss_pct\": 0.27586206896551724, \"Group\": \"Everyone Else\"}, {\"Name\": \"Dallas Keuchel\", \"Games Started\": 202.0, \"Wins from starts\": 84.0, \"Losses from starts\": 69.0, \"Cheap Wins\": 10.0, \"Tough Losses\": 19.0, \"cheap_win_pct\": 0.11904761904761904, \"tuff_loss_pct\": 0.2753623188405797, \"Group\": \"Everyone Else\"}, {\"Name\": \"Danny Duffy\", \"Games Started\": 181.0, \"Wins from starts\": 59.0, \"Losses from starts\": 60.0, \"Cheap Wins\": 15.0, \"Tough Losses\": 15.0, \"cheap_win_pct\": 0.2542372881355932, \"tuff_loss_pct\": 0.25, \"Group\": \"Everyone Else\"}, {\"Name\": \"David Price\", \"Games Started\": 311.0, \"Wins from starts\": 149.0, \"Losses from starts\": 80.0, \"Cheap Wins\": 20.0, \"Tough Losses\": 33.0, \"cheap_win_pct\": 0.1342281879194631, \"tuff_loss_pct\": 0.4125, \"Group\": \"Tough Losers\"}, {\"Name\": \"Derek Holland\", \"Games Started\": 222.0, \"Wins from starts\": 75.0, \"Losses from starts\": 76.0, \"Cheap Wins\": 16.0, \"Tough Losses\": 15.0, \"cheap_win_pct\": 0.21333333333333335, \"tuff_loss_pct\": 0.19736842105263158, \"Group\": \"Everyone Else\"}, {\"Name\": \"Drew Pomeranz\", \"Games Started\": 140.0, \"Wins from starts\": 41.0, \"Losses from starts\": 52.0, \"Cheap Wins\": 16.0, \"Tough Losses\": 7.0, \"cheap_win_pct\": 0.3902439024390244, \"tuff_loss_pct\": 0.1346153846153846, \"Group\": \"Cheap Winners\"}, {\"Name\": \"Edinson Volquez\", \"Games Started\": 273.0, \"Wins from starts\": 93.0, \"Losses from starts\": 86.0, \"Cheap Wins\": 22.0, \"Tough Losses\": 17.0, \"cheap_win_pct\": 0.23655913978494625, \"tuff_loss_pct\": 0.19767441860465115, \"Group\": \"Everyone Else\"}, {\"Name\": \"Eduardo Rodriguez\", \"Games Started\": 122.0, \"Wins from starts\": 50.0, \"Losses from starts\": 30.0, \"Cheap Wins\": 13.0, \"Tough Losses\": 3.0, \"cheap_win_pct\": 0.26, \"tuff_loss_pct\": 0.1, \"Group\": \"Everyone Else\"}, {\"Name\": \"Edwin Jackson\", \"Games Started\": 318.0, \"Wins from starts\": 101.0, \"Losses from starts\": 127.0, \"Cheap Wins\": 31.0, \"Tough Losses\": 31.0, \"cheap_win_pct\": 0.3069306930693069, \"tuff_loss_pct\": 0.2440944881889764, \"Group\": \"Everyone Else\"}, {\"Name\": \"Felix Hernandez\", \"Games Started\": 418.0, \"Wins from starts\": 169.0, \"Losses from starts\": 135.0, \"Cheap Wins\": 29.0, \"Tough Losses\": 42.0, \"cheap_win_pct\": 0.17159763313609466, \"tuff_loss_pct\": 0.3111111111111111, \"Group\": \"Everyone Else\"}, {\"Name\": \"Francisco Liriano\", \"Games Started\": 300.0, \"Wins from starts\": 106.0, \"Losses from starts\": 108.0, \"Cheap Wins\": 24.0, \"Tough Losses\": 25.0, \"cheap_win_pct\": 0.22641509433962265, \"tuff_loss_pct\": 0.23148148148148148, \"Group\": \"Everyone Else\"}, {\"Name\": \"Garrett Richards\", \"Games Started\": 118.0, \"Wins from starts\": 43.0, \"Losses from starts\": 35.0, \"Cheap Wins\": 7.0, \"Tough Losses\": 10.0, \"cheap_win_pct\": 0.16279069767441862, \"tuff_loss_pct\": 0.2857142857142857, \"Group\": \"Everyone Else\"}, {\"Name\": \"Gerrit Cole\", \"Games Started\": 192.0, \"Wins from starts\": 94.0, \"Losses from starts\": 52.0, \"Cheap Wins\": 14.0, \"Tough Losses\": 20.0, \"cheap_win_pct\": 0.14893617021276595, \"tuff_loss_pct\": 0.38461538461538464, \"Group\": \"Tough Losers\"}, {\"Name\": \"Gio Gonzalez\", \"Games Started\": 324.0, \"Wins from starts\": 129.0, \"Losses from starts\": 99.0, \"Cheap Wins\": 20.0, \"Tough Losses\": 25.0, \"cheap_win_pct\": 0.15503875968992248, \"tuff_loss_pct\": 0.25252525252525254, \"Group\": \"Everyone Else\"}, {\"Name\": \"Hector Santiago\", \"Games Started\": 139.0, \"Wins from starts\": 38.0, \"Losses from starts\": 45.0, \"Cheap Wins\": 14.0, \"Tough Losses\": 6.0, \"cheap_win_pct\": 0.3684210526315789, \"tuff_loss_pct\": 0.13333333333333333, \"Group\": \"Cheap Winners\"}, {\"Name\": \"Homer Bailey\", \"Games Started\": 243.0, \"Wins from starts\": 80.0, \"Losses from starts\": 86.0, \"Cheap Wins\": 14.0, \"Tough Losses\": 15.0, \"cheap_win_pct\": 0.175, \"tuff_loss_pct\": 0.1744186046511628, \"Group\": \"Everyone Else\"}, {\"Name\": \"Hyun-Jin Ryu\", \"Games Started\": 125.0, \"Wins from starts\": 54.0, \"Losses from starts\": 33.0, \"Cheap Wins\": 7.0, \"Tough Losses\": 8.0, \"cheap_win_pct\": 0.12962962962962962, \"tuff_loss_pct\": 0.24242424242424243, \"Group\": \"Everyone Else\"}, {\"Name\": \"Ian Kennedy\", \"Games Started\": 289.0, \"Wins from starts\": 94.0, \"Losses from starts\": 101.0, \"Cheap Wins\": 18.0, \"Tough Losses\": 22.0, \"cheap_win_pct\": 0.19148936170212766, \"tuff_loss_pct\": 0.21782178217821782, \"Group\": \"Everyone Else\"}, {\"Name\": \"Ivan Nova\", \"Games Started\": 223.0, \"Wins from starts\": 87.0, \"Losses from starts\": 73.0, \"Cheap Wins\": 24.0, \"Tough Losses\": 18.0, \"cheap_win_pct\": 0.27586206896551724, \"tuff_loss_pct\": 0.2465753424657534, \"Group\": \"Everyone Else\"}, {\"Name\": \"J.A. Happ\", \"Games Started\": 289.0, \"Wins from starts\": 119.0, \"Losses from starts\": 90.0, \"Cheap Wins\": 38.0, \"Tough Losses\": 21.0, \"cheap_win_pct\": 0.31932773109243695, \"tuff_loss_pct\": 0.23333333333333334, \"Group\": \"Everyone Else\"}, {\"Name\": \"Jacob deGrom\", \"Games Started\": 171.0, \"Wins from starts\": 66.0, \"Losses from starts\": 49.0, \"Cheap Wins\": 6.0, \"Tough Losses\": 23.0, \"cheap_win_pct\": 0.09090909090909091, \"tuff_loss_pct\": 0.46938775510204084, \"Group\": \"Tough Losers\"}, {\"Name\": \"Jair Jurrjens\", \"Games Started\": 128.0, \"Wins from starts\": 53.0, \"Losses from starts\": 38.0, \"Cheap Wins\": 13.0, \"Tough Losses\": 13.0, \"cheap_win_pct\": 0.24528301886792453, \"tuff_loss_pct\": 0.34210526315789475, \"Group\": \"Everyone Else\"}, {\"Name\": \"Jake Arrieta\", \"Games Started\": 246.0, \"Wins from starts\": 106.0, \"Losses from starts\": 75.0, \"Cheap Wins\": 16.0, \"Tough Losses\": 19.0, \"cheap_win_pct\": 0.1509433962264151, \"tuff_loss_pct\": 0.25333333333333335, \"Group\": \"Everyone Else\"}, {\"Name\": \"Jake Odorizzi\", \"Games Started\": 188.0, \"Wins from starts\": 62.0, \"Losses from starts\": 55.0, \"Cheap Wins\": 20.0, \"Tough Losses\": 11.0, \"cheap_win_pct\": 0.3225806451612903, \"tuff_loss_pct\": 0.2, \"Group\": \"Everyone Else\"}, {\"Name\": \"James Paxton\", \"Games Started\": 131.0, \"Wins from starts\": 56.0, \"Losses from starts\": 32.0, \"Cheap Wins\": 13.0, \"Tough Losses\": 8.0, \"cheap_win_pct\": 0.23214285714285715, \"tuff_loss_pct\": 0.25, \"Group\": \"Everyone Else\"}, {\"Name\": \"Jeff Samardzija\", \"Games Started\": 237.0, \"Wins from starts\": 70.0, \"Losses from starts\": 98.0, \"Cheap Wins\": 10.0, \"Tough Losses\": 28.0, \"cheap_win_pct\": 0.14285714285714285, \"tuff_loss_pct\": 0.2857142857142857, \"Group\": \"Everyone Else\"}, {\"Name\": \"Jhoulys Chacin\", \"Games Started\": 226.0, \"Wins from starts\": 75.0, \"Losses from starts\": 86.0, \"Cheap Wins\": 23.0, \"Tough Losses\": 23.0, \"cheap_win_pct\": 0.30666666666666664, \"tuff_loss_pct\": 0.26744186046511625, \"Group\": \"Everyone Else\"}, {\"Name\": \"Johnny Cueto\", \"Games Started\": 296.0, \"Wins from starts\": 126.0, \"Losses from starts\": 87.0, \"Cheap Wins\": 22.0, \"Tough Losses\": 29.0, \"cheap_win_pct\": 0.1746031746031746, \"tuff_loss_pct\": 0.3333333333333333, \"Group\": \"Everyone Else\"}, {\"Name\": \"Jon Lester\", \"Games Started\": 411.0, \"Wins from starts\": 190.0, \"Losses from starts\": 108.0, \"Cheap Wins\": 29.0, \"Tough Losses\": 29.0, \"cheap_win_pct\": 0.15263157894736842, \"tuff_loss_pct\": 0.26851851851851855, \"Group\": \"Everyone Else\"}, {\"Name\": \"Jordan Zimmermann\", \"Games Started\": 273.0, \"Wins from starts\": 95.0, \"Losses from starts\": 91.0, \"Cheap Wins\": 22.0, \"Tough Losses\": 29.0, \"cheap_win_pct\": 0.23157894736842105, \"tuff_loss_pct\": 0.31868131868131866, \"Group\": \"Everyone Else\"}, {\"Name\": \"Jose Quintana\", \"Games Started\": 246.0, \"Wins from starts\": 83.0, \"Losses from starts\": 77.0, \"Cheap Wins\": 12.0, \"Tough Losses\": 29.0, \"cheap_win_pct\": 0.14457831325301204, \"tuff_loss_pct\": 0.37662337662337664, \"Group\": \"Tough Losers\"}, {\"Name\": \"Josh Tomlin\", \"Games Started\": 145.0, \"Wins from starts\": 57.0, \"Losses from starts\": 50.0, \"Cheap Wins\": 18.0, \"Tough Losses\": 11.0, \"cheap_win_pct\": 0.3157894736842105, \"tuff_loss_pct\": 0.22, \"Group\": \"Everyone Else\"}, {\"Name\": \"Julio Teheran\", \"Games Started\": 226.0, \"Wins from starts\": 77.0, \"Losses from starts\": 73.0, \"Cheap Wins\": 11.0, \"Tough Losses\": 25.0, \"cheap_win_pct\": 0.14285714285714285, \"tuff_loss_pct\": 0.3424657534246575, \"Group\": \"Everyone Else\"}, {\"Name\": \"Justin Verlander\", \"Games Started\": 453.0, \"Wins from starts\": 225.0, \"Losses from starts\": 129.0, \"Cheap Wins\": 29.0, \"Tough Losses\": 41.0, \"cheap_win_pct\": 0.1288888888888889, \"tuff_loss_pct\": 0.3178294573643411, \"Group\": \"Everyone Else\"}, {\"Name\": \"Kenta Maeda\", \"Games Started\": 103.0, \"Wins from starts\": 42.0, \"Losses from starts\": 32.0, \"Cheap Wins\": 20.0, \"Tough Losses\": 4.0, \"cheap_win_pct\": 0.47619047619047616, \"tuff_loss_pct\": 0.125, \"Group\": \"Cheap Winners\"}, {\"Name\": \"Kevin Gausman\", \"Games Started\": 154.0, \"Wins from starts\": 43.0, \"Losses from starts\": 60.0, \"Cheap Wins\": 7.0, \"Tough Losses\": 8.0, \"cheap_win_pct\": 0.16279069767441862, \"tuff_loss_pct\": 0.13333333333333333, \"Group\": \"Everyone Else\"}, {\"Name\": \"Kyle Gibson\", \"Games Started\": 188.0, \"Wins from starts\": 67.0, \"Losses from starts\": 68.0, \"Cheap Wins\": 15.0, \"Tough Losses\": 9.0, \"cheap_win_pct\": 0.22388059701492538, \"tuff_loss_pct\": 0.1323529411764706, \"Group\": \"Everyone Else\"}, {\"Name\": \"Kyle Hendricks\", \"Games Started\": 162.0, \"Wins from starts\": 63.0, \"Losses from starts\": 43.0, \"Cheap Wins\": 11.0, \"Tough Losses\": 12.0, \"cheap_win_pct\": 0.1746031746031746, \"tuff_loss_pct\": 0.27906976744186046, \"Group\": \"Everyone Else\"}, {\"Name\": \"Lance Lynn\", \"Games Started\": 223.0, \"Wins from starts\": 96.0, \"Losses from starts\": 66.0, \"Cheap Wins\": 20.0, \"Tough Losses\": 19.0, \"cheap_win_pct\": 0.20833333333333334, \"tuff_loss_pct\": 0.2878787878787879, \"Group\": \"Everyone Else\"}, {\"Name\": \"Madison Bumgarner\", \"Games Started\": 286.0, \"Wins from starts\": 119.0, \"Losses from starts\": 92.0, \"Cheap Wins\": 24.0, \"Tough Losses\": 43.0, \"cheap_win_pct\": 0.20168067226890757, \"tuff_loss_pct\": 0.4673913043478261, \"Group\": \"Tough Losers\"}, {\"Name\": \"Marcus Stroman\", \"Games Started\": 140.0, \"Wins from starts\": 50.0, \"Losses from starts\": 47.0, \"Cheap Wins\": 7.0, \"Tough Losses\": 15.0, \"cheap_win_pct\": 0.14, \"tuff_loss_pct\": 0.3191489361702128, \"Group\": \"Everyone Else\"}, {\"Name\": \"Martin Perez\", \"Games Started\": 157.0, \"Wins from starts\": 52.0, \"Losses from starts\": 56.0, \"Cheap Wins\": 12.0, \"Tough Losses\": 12.0, \"cheap_win_pct\": 0.23076923076923078, \"tuff_loss_pct\": 0.21428571428571427, \"Group\": \"Everyone Else\"}, {\"Name\": \"Masahiro Tanaka\", \"Games Started\": 163.0, \"Wins from starts\": 75.0, \"Losses from starts\": 42.0, \"Cheap Wins\": 13.0, \"Tough Losses\": 14.0, \"cheap_win_pct\": 0.17333333333333334, \"tuff_loss_pct\": 0.3333333333333333, \"Group\": \"Everyone Else\"}, {\"Name\": \"Max Scherzer\", \"Games Started\": 356.0, \"Wins from starts\": 170.0, \"Losses from starts\": 89.0, \"Cheap Wins\": 23.0, \"Tough Losses\": 31.0, \"cheap_win_pct\": 0.13529411764705881, \"tuff_loss_pct\": 0.34831460674157305, \"Group\": \"Everyone Else\"}, {\"Name\": \"Michael Pineda\", \"Games Started\": 143.0, \"Wins from starts\": 51.0, \"Losses from starts\": 46.0, \"Cheap Wins\": 10.0, \"Tough Losses\": 13.0, \"cheap_win_pct\": 0.19607843137254902, \"tuff_loss_pct\": 0.2826086956521739, \"Group\": \"Everyone Else\"}, {\"Name\": \"Michael Wacha\", \"Games Started\": 151.0, \"Wins from starts\": 57.0, \"Losses from starts\": 39.0, \"Cheap Wins\": 11.0, \"Tough Losses\": 10.0, \"cheap_win_pct\": 0.19298245614035087, \"tuff_loss_pct\": 0.2564102564102564, \"Group\": \"Everyone Else\"}, {\"Name\": \"Mike Fiers\", \"Games Started\": 186.0, \"Wins from starts\": 68.0, \"Losses from starts\": 56.0, \"Cheap Wins\": 16.0, \"Tough Losses\": 16.0, \"cheap_win_pct\": 0.23529411764705882, \"tuff_loss_pct\": 0.2857142857142857, \"Group\": \"Everyone Else\"}, {\"Name\": \"Mike Foltynewicz\", \"Games Started\": 117.0, \"Wins from starts\": 44.0, \"Losses from starts\": 40.0, \"Cheap Wins\": 17.0, \"Tough Losses\": 9.0, \"cheap_win_pct\": 0.38636363636363635, \"tuff_loss_pct\": 0.225, \"Group\": \"Cheap Winners\"}, {\"Name\": \"Mike Leake\", \"Games Started\": 296.0, \"Wins from starts\": 105.0, \"Losses from starts\": 97.0, \"Cheap Wins\": 13.0, \"Tough Losses\": 27.0, \"cheap_win_pct\": 0.12380952380952381, \"tuff_loss_pct\": 0.27835051546391754, \"Group\": \"Everyone Else\"}, {\"Name\": \"Mike Minor\", \"Games Started\": 170.0, \"Wins from starts\": 64.0, \"Losses from starts\": 54.0, \"Cheap Wins\": 16.0, \"Tough Losses\": 18.0, \"cheap_win_pct\": 0.25, \"tuff_loss_pct\": 0.3333333333333333, \"Group\": \"Everyone Else\"}, {\"Name\": \"Nathan Eovaldi\", \"Games Started\": 160.0, \"Wins from starts\": 44.0, \"Losses from starts\": 54.0, \"Cheap Wins\": 13.0, \"Tough Losses\": 16.0, \"cheap_win_pct\": 0.29545454545454547, \"tuff_loss_pct\": 0.2962962962962963, \"Group\": \"Everyone Else\"}, {\"Name\": \"Noah Syndergaard\", \"Games Started\": 118.0, \"Wins from starts\": 47.0, \"Losses from starts\": 30.0, \"Cheap Wins\": 12.0, \"Tough Losses\": 12.0, \"cheap_win_pct\": 0.2553191489361702, \"tuff_loss_pct\": 0.4, \"Group\": \"Tough Losers\"}, {\"Name\": \"Oliver Perez\", \"Games Started\": 195.0, \"Wins from starts\": 58.0, \"Losses from starts\": 67.0, \"Cheap Wins\": 13.0, \"Tough Losses\": 12.0, \"cheap_win_pct\": 0.22413793103448276, \"tuff_loss_pct\": 0.1791044776119403, \"Group\": \"Everyone Else\"}, {\"Name\": \"Patrick Corbin\", \"Games Started\": 187.0, \"Wins from starts\": 69.0, \"Losses from starts\": 59.0, \"Cheap Wins\": 8.0, \"Tough Losses\": 15.0, \"cheap_win_pct\": 0.11594202898550725, \"tuff_loss_pct\": 0.2542372881355932, \"Group\": \"Everyone Else\"}, {\"Name\": \"Rich Hill\", \"Games Started\": 156.0, \"Wins from starts\": 61.0, \"Losses from starts\": 40.0, \"Cheap Wins\": 19.0, \"Tough Losses\": 7.0, \"cheap_win_pct\": 0.3114754098360656, \"tuff_loss_pct\": 0.175, \"Group\": \"Everyone Else\"}, {\"Name\": \"Rick Porcello\", \"Games Started\": 339.0, \"Wins from starts\": 149.0, \"Losses from starts\": 117.0, \"Cheap Wins\": 35.0, \"Tough Losses\": 34.0, \"cheap_win_pct\": 0.2348993288590604, \"tuff_loss_pct\": 0.2905982905982906, \"Group\": \"Everyone Else\"}, {\"Name\": \"Robbie Ray\", \"Games Started\": 146.0, \"Wins from starts\": 47.0, \"Losses from starts\": 46.0, \"Cheap Wins\": 17.0, \"Tough Losses\": 10.0, \"cheap_win_pct\": 0.3617021276595745, \"tuff_loss_pct\": 0.21739130434782608, \"Group\": \"Cheap Winners\"}, {\"Name\": \"Sonny Gray\", \"Games Started\": 177.0, \"Wins from starts\": 68.0, \"Losses from starts\": 60.0, \"Cheap Wins\": 11.0, \"Tough Losses\": 23.0, \"cheap_win_pct\": 0.16176470588235295, \"tuff_loss_pct\": 0.38333333333333336, \"Group\": \"Tough Losers\"}, {\"Name\": \"Stephen Strasburg\", \"Games Started\": 239.0, \"Wins from starts\": 112.0, \"Losses from starts\": 58.0, \"Cheap Wins\": 17.0, \"Tough Losses\": 23.0, \"cheap_win_pct\": 0.15178571428571427, \"tuff_loss_pct\": 0.39655172413793105, \"Group\": \"Tough Losers\"}, {\"Name\": \"Tanner Roark\", \"Games Started\": 172.0, \"Wins from starts\": 69.0, \"Losses from starts\": 60.0, \"Cheap Wins\": 19.0, \"Tough Losses\": 21.0, \"cheap_win_pct\": 0.2753623188405797, \"tuff_loss_pct\": 0.35, \"Group\": \"Tough Losers\"}, {\"Name\": \"Tommy Milone\", \"Games Started\": 136.0, \"Wins from starts\": 47.0, \"Losses from starts\": 39.0, \"Cheap Wins\": 17.0, \"Tough Losses\": 5.0, \"cheap_win_pct\": 0.3617021276595745, \"tuff_loss_pct\": 0.1282051282051282, \"Group\": \"Cheap Winners\"}, {\"Name\": \"Trevor Bauer\", \"Games Started\": 184.0, \"Wins from starts\": 68.0, \"Losses from starts\": 60.0, \"Cheap Wins\": 12.0, \"Tough Losses\": 17.0, \"cheap_win_pct\": 0.17647058823529413, \"tuff_loss_pct\": 0.2833333333333333, \"Group\": \"Everyone Else\"}, {\"Name\": \"Trevor Cahill\", \"Games Started\": 219.0, \"Wins from starts\": 75.0, \"Losses from starts\": 82.0, \"Cheap Wins\": 18.0, \"Tough Losses\": 20.0, \"cheap_win_pct\": 0.24, \"tuff_loss_pct\": 0.24390243902439024, \"Group\": \"Everyone Else\"}, {\"Name\": \"Tyler Chatwood\", \"Games Started\": 138.0, \"Wins from starts\": 44.0, \"Losses from starts\": 51.0, \"Cheap Wins\": 13.0, \"Tough Losses\": 4.0, \"cheap_win_pct\": 0.29545454545454547, \"tuff_loss_pct\": 0.0784313725490196, \"Group\": \"Everyone Else\"}, {\"Name\": \"Tyson Ross\", \"Games Started\": 142.0, \"Wins from starts\": 41.0, \"Losses from starts\": 62.0, \"Cheap Wins\": 10.0, \"Tough Losses\": 19.0, \"cheap_win_pct\": 0.24390243902439024, \"tuff_loss_pct\": 0.3064516129032258, \"Group\": \"Everyone Else\"}, {\"Name\": \"Ubaldo Jimenez\", \"Games Started\": 315.0, \"Wins from starts\": 114.0, \"Losses from starts\": 116.0, \"Cheap Wins\": 22.0, \"Tough Losses\": 27.0, \"cheap_win_pct\": 0.19298245614035087, \"tuff_loss_pct\": 0.23275862068965517, \"Group\": \"Everyone Else\"}, {\"Name\": \"Wade LeBlanc\", \"Games Started\": 114.0, \"Wins from starts\": 33.0, \"Losses from starts\": 40.0, \"Cheap Wins\": 13.0, \"Tough Losses\": 8.0, \"cheap_win_pct\": 0.3939393939393939, \"tuff_loss_pct\": 0.2, \"Group\": \"Cheap Winners\"}, {\"Name\": \"Wade Miley\", \"Games Started\": 245.0, \"Wins from starts\": 84.0, \"Losses from starts\": 82.0, \"Cheap Wins\": 24.0, \"Tough Losses\": 25.0, \"cheap_win_pct\": 0.2857142857142857, \"tuff_loss_pct\": 0.3048780487804878, \"Group\": \"Everyone Else\"}, {\"Name\": \"Wei-Yin Chen\", \"Games Started\": 170.0, \"Wins from starts\": 59.0, \"Losses from starts\": 50.0, \"Cheap Wins\": 18.0, \"Tough Losses\": 18.0, \"cheap_win_pct\": 0.3050847457627119, \"tuff_loss_pct\": 0.36, \"Group\": \"Tough Losers\"}, {\"Name\": \"Yu Darvish\", \"Games Started\": 170.0, \"Wins from starts\": 63.0, \"Losses from starts\": 53.0, \"Cheap Wins\": 15.0, \"Tough Losses\": 19.0, \"cheap_win_pct\": 0.23809523809523808, \"tuff_loss_pct\": 0.3584905660377358, \"Group\": \"Tough Losers\"}, {\"Name\": \"Zack Greinke\", \"Games Started\": 447.0, \"Wins from starts\": 200.0, \"Losses from starts\": 122.0, \"Cheap Wins\": 27.0, \"Tough Losses\": 39.0, \"cheap_win_pct\": 0.135, \"tuff_loss_pct\": 0.319672131147541, \"Group\": \"Everyone Else\"}, {\"Name\": \"Zack Wheeler\", \"Games Started\": 126.0, \"Wins from starts\": 44.0, \"Losses from starts\": 38.0, \"Cheap Wins\": 11.0, \"Tough Losses\": 12.0, \"cheap_win_pct\": 0.25, \"tuff_loss_pct\": 0.3157894736842105, \"Group\": \"Everyone Else\"}]}}, {\"mode\": \"vega-lite\"});\n",
       "</script>"
      ],
      "text/plain": [
       "alt.LayerChart(...)"
      ]
     },
     "execution_count": 248,
     "metadata": {},
     "output_type": "execute_result"
    }
   ],
   "source": [
    "# plot altair chart\n",
    "\n",
    "# main scatter plot\n",
    "chart = alt.Chart(career_df).mark_circle(size=100).encode(\n",
    "    alt.X(\"cheap_win_pct\", \n",
    "          axis=alt.Axis(format=\"%\", title=\"Percent of Wins in Not Quality Starts\")),\n",
    "    alt.Y(\"tuff_loss_pct\", \n",
    "          axis=alt.Axis(format=\"%\", title=\"Percent of Losses in Quality Starts\")),\n",
    "    color=alt.Color(\"Group:N\", \n",
    "                    legend=alt.Legend(orient=\"bottom-left\",\n",
    "                                      title=None)),\n",
    "    tooltip=[\"Name\", \"Games Started\", \n",
    "             \"Wins from starts\", \"Losses from starts\", \n",
    "             \"Cheap Wins\", \"Tough Losses\"]\n",
    ")\n",
    "\n",
    "# have names appear for some of the extreme values\n",
    "annotation = alt.Chart(career_df).mark_text(\n",
    "    align='left',\n",
    "    baseline='middle',\n",
    "    fontSize = 12,\n",
    "    dx = 7,\n",
    "    dy = 2\n",
    ").encode(\n",
    "    x='cheap_win_pct',\n",
    "    y='tuff_loss_pct',\n",
    "    text='Name'\n",
    ").transform_filter(\n",
    "    (alt.datum.cheap_win_pct >= .4) | (alt.datum.tuff_loss_pct >= .4)\n",
    ")\n",
    "\n",
    "# put it together\n",
    "(chart + annotation).properties(\n",
    "    title=\"Active Starters with 100+ Games Started\",\n",
    "    width = 600,\n",
    "    height = 600\n",
    ")#.save(\"cheap_winners_tough_losers.html\")"
   ]
  },
  {
   "cell_type": "code",
   "execution_count": null,
   "metadata": {},
   "outputs": [],
   "source": []
  }
 ],
 "metadata": {
  "kernelspec": {
   "display_name": "Python 3",
   "language": "python",
   "name": "python3"
  },
  "language_info": {
   "codemirror_mode": {
    "name": "ipython",
    "version": 3
   },
   "file_extension": ".py",
   "mimetype": "text/x-python",
   "name": "python",
   "nbconvert_exporter": "python",
   "pygments_lexer": "ipython3",
   "version": "3.7.4"
  }
 },
 "nbformat": 4,
 "nbformat_minor": 4
}
