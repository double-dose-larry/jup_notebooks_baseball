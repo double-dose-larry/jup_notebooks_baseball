{
 "cells": [
  {
   "cell_type": "code",
   "execution_count": 1,
   "metadata": {},
   "outputs": [],
   "source": [
    "import pandas as pd\n",
    "import pybaseball as pb\n",
    "import matplotlib.pyplot as plt\n",
    "import math\n",
    "from matplotlib.patches import Ellipse, Polygon"
   ]
  },
  {
   "cell_type": "code",
   "execution_count": 2,
   "metadata": {},
   "outputs": [
    {
     "name": "stdout",
     "output_type": "stream",
     "text": [
      "This is a large query, it may take a moment to complete\n"
     ]
    },
    {
     "name": "stderr",
     "output_type": "stream",
     "text": [
      "  0%|          | 0/40 [00:00<?, ?it/s]"
     ]
    },
    {
     "name": "stdout",
     "output_type": "stream",
     "text": [
      "Skipping offseason dates\n"
     ]
    },
    {
     "name": "stderr",
     "output_type": "stream",
     "text": [
      "100%|██████████| 40/40 [00:10<00:00,  3.91it/s]\n"
     ]
    }
   ],
   "source": [
    "playoff_sc_df = pb.statcast(start_dt='2022-10-07', end_dt='2022-12-01')"
   ]
  },
  {
   "cell_type": "markdown",
   "metadata": {},
   "source": [
    "we have all the pitches\n",
    "\n",
    "need to filter down:\n",
    "\n",
    "* to all the pitches that were put into play\n",
    "* plot the launch angle and ev\n",
    "* maybe size by xwOBA\n",
    "* need to color by out, hit, non-hr extra base hit and homerun"
   ]
  },
  {
   "cell_type": "code",
   "execution_count": 3,
   "metadata": {},
   "outputs": [
    {
     "data": {
      "text/html": [
       "<div>\n",
       "<style scoped>\n",
       "    .dataframe tbody tr th:only-of-type {\n",
       "        vertical-align: middle;\n",
       "    }\n",
       "\n",
       "    .dataframe tbody tr th {\n",
       "        vertical-align: top;\n",
       "    }\n",
       "\n",
       "    .dataframe thead th {\n",
       "        text-align: right;\n",
       "    }\n",
       "</style>\n",
       "<table border=\"1\" class=\"dataframe\">\n",
       "  <thead>\n",
       "    <tr style=\"text-align: right;\">\n",
       "      <th></th>\n",
       "      <th>pitch_type</th>\n",
       "      <th>game_date</th>\n",
       "      <th>release_speed</th>\n",
       "      <th>release_pos_x</th>\n",
       "      <th>release_pos_z</th>\n",
       "      <th>player_name</th>\n",
       "      <th>batter</th>\n",
       "      <th>pitcher</th>\n",
       "      <th>events</th>\n",
       "      <th>description</th>\n",
       "      <th>...</th>\n",
       "      <th>fld_score</th>\n",
       "      <th>post_away_score</th>\n",
       "      <th>post_home_score</th>\n",
       "      <th>post_bat_score</th>\n",
       "      <th>post_fld_score</th>\n",
       "      <th>if_fielding_alignment</th>\n",
       "      <th>of_fielding_alignment</th>\n",
       "      <th>spin_axis</th>\n",
       "      <th>delta_home_win_exp</th>\n",
       "      <th>delta_run_exp</th>\n",
       "    </tr>\n",
       "  </thead>\n",
       "  <tbody>\n",
       "    <tr>\n",
       "      <th>140</th>\n",
       "      <td>CU</td>\n",
       "      <td>2022-10-20</td>\n",
       "      <td>82.2</td>\n",
       "      <td>-0.14</td>\n",
       "      <td>5.82</td>\n",
       "      <td>Pressly, Ryan</td>\n",
       "      <td>572761</td>\n",
       "      <td>519151</td>\n",
       "      <td>strikeout</td>\n",
       "      <td>swinging_strike_blocked</td>\n",
       "      <td>...</td>\n",
       "      <td>3</td>\n",
       "      <td>2</td>\n",
       "      <td>3</td>\n",
       "      <td>2</td>\n",
       "      <td>3</td>\n",
       "      <td>Infield shift</td>\n",
       "      <td>Standard</td>\n",
       "      <td>25</td>\n",
       "      <td>0.078</td>\n",
       "      <td>-0.159</td>\n",
       "    </tr>\n",
       "    <tr>\n",
       "      <th>144</th>\n",
       "      <td>CH</td>\n",
       "      <td>2022-10-20</td>\n",
       "      <td>89.2</td>\n",
       "      <td>-0.46</td>\n",
       "      <td>5.66</td>\n",
       "      <td>Pressly, Ryan</td>\n",
       "      <td>572761</td>\n",
       "      <td>519151</td>\n",
       "      <td>None</td>\n",
       "      <td>blocked_ball</td>\n",
       "      <td>...</td>\n",
       "      <td>3</td>\n",
       "      <td>2</td>\n",
       "      <td>3</td>\n",
       "      <td>2</td>\n",
       "      <td>3</td>\n",
       "      <td>Infield shift</td>\n",
       "      <td>Standard</td>\n",
       "      <td>232</td>\n",
       "      <td>0.0</td>\n",
       "      <td>0.023</td>\n",
       "    </tr>\n",
       "    <tr>\n",
       "      <th>148</th>\n",
       "      <td>CU</td>\n",
       "      <td>2022-10-20</td>\n",
       "      <td>80.7</td>\n",
       "      <td>-0.24</td>\n",
       "      <td>5.83</td>\n",
       "      <td>Pressly, Ryan</td>\n",
       "      <td>572761</td>\n",
       "      <td>519151</td>\n",
       "      <td>None</td>\n",
       "      <td>foul</td>\n",
       "      <td>...</td>\n",
       "      <td>3</td>\n",
       "      <td>2</td>\n",
       "      <td>3</td>\n",
       "      <td>2</td>\n",
       "      <td>3</td>\n",
       "      <td>Infield shift</td>\n",
       "      <td>Standard</td>\n",
       "      <td>27</td>\n",
       "      <td>0.0</td>\n",
       "      <td>-0.048</td>\n",
       "    </tr>\n",
       "    <tr>\n",
       "      <th>155</th>\n",
       "      <td>SL</td>\n",
       "      <td>2022-10-20</td>\n",
       "      <td>90.0</td>\n",
       "      <td>-0.26</td>\n",
       "      <td>5.94</td>\n",
       "      <td>Pressly, Ryan</td>\n",
       "      <td>572761</td>\n",
       "      <td>519151</td>\n",
       "      <td>None</td>\n",
       "      <td>called_strike</td>\n",
       "      <td>...</td>\n",
       "      <td>3</td>\n",
       "      <td>2</td>\n",
       "      <td>3</td>\n",
       "      <td>2</td>\n",
       "      <td>3</td>\n",
       "      <td>Infield shift</td>\n",
       "      <td>Standard</td>\n",
       "      <td>127</td>\n",
       "      <td>0.0</td>\n",
       "      <td>-0.035</td>\n",
       "    </tr>\n",
       "    <tr>\n",
       "      <th>159</th>\n",
       "      <td>CU</td>\n",
       "      <td>2022-10-20</td>\n",
       "      <td>81.2</td>\n",
       "      <td>-0.19</td>\n",
       "      <td>5.82</td>\n",
       "      <td>Pressly, Ryan</td>\n",
       "      <td>518626</td>\n",
       "      <td>519151</td>\n",
       "      <td>walk</td>\n",
       "      <td>ball</td>\n",
       "      <td>...</td>\n",
       "      <td>3</td>\n",
       "      <td>2</td>\n",
       "      <td>3</td>\n",
       "      <td>2</td>\n",
       "      <td>3</td>\n",
       "      <td>Standard</td>\n",
       "      <td>Standard</td>\n",
       "      <td>23</td>\n",
       "      <td>-0.043</td>\n",
       "      <td>0.101</td>\n",
       "    </tr>\n",
       "  </tbody>\n",
       "</table>\n",
       "<p>5 rows × 92 columns</p>\n",
       "</div>"
      ],
      "text/plain": [
       "    pitch_type  game_date  release_speed  release_pos_x  release_pos_z  \\\n",
       "140         CU 2022-10-20           82.2          -0.14           5.82   \n",
       "144         CH 2022-10-20           89.2          -0.46           5.66   \n",
       "148         CU 2022-10-20           80.7          -0.24           5.83   \n",
       "155         SL 2022-10-20           90.0          -0.26           5.94   \n",
       "159         CU 2022-10-20           81.2          -0.19           5.82   \n",
       "\n",
       "       player_name  batter  pitcher     events              description  ...  \\\n",
       "140  Pressly, Ryan  572761   519151  strikeout  swinging_strike_blocked  ...   \n",
       "144  Pressly, Ryan  572761   519151       None             blocked_ball  ...   \n",
       "148  Pressly, Ryan  572761   519151       None                     foul  ...   \n",
       "155  Pressly, Ryan  572761   519151       None            called_strike  ...   \n",
       "159  Pressly, Ryan  518626   519151       walk                     ball  ...   \n",
       "\n",
       "     fld_score  post_away_score  post_home_score  post_bat_score  \\\n",
       "140          3                2                3               2   \n",
       "144          3                2                3               2   \n",
       "148          3                2                3               2   \n",
       "155          3                2                3               2   \n",
       "159          3                2                3               2   \n",
       "\n",
       "     post_fld_score if_fielding_alignment of_fielding_alignment spin_axis  \\\n",
       "140               3         Infield shift              Standard        25   \n",
       "144               3         Infield shift              Standard       232   \n",
       "148               3         Infield shift              Standard        27   \n",
       "155               3         Infield shift              Standard       127   \n",
       "159               3              Standard              Standard        23   \n",
       "\n",
       "    delta_home_win_exp delta_run_exp  \n",
       "140              0.078        -0.159  \n",
       "144                0.0         0.023  \n",
       "148                0.0        -0.048  \n",
       "155                0.0        -0.035  \n",
       "159             -0.043         0.101  \n",
       "\n",
       "[5 rows x 92 columns]"
      ]
     },
     "execution_count": 3,
     "metadata": {},
     "output_type": "execute_result"
    }
   ],
   "source": [
    "playoff_sc_df.head()"
   ]
  },
  {
   "cell_type": "code",
   "execution_count": 4,
   "metadata": {},
   "outputs": [
    {
     "data": {
      "text/plain": [
       "Index(['pitch_type', 'game_date', 'release_speed', 'release_pos_x',\n",
       "       'release_pos_z', 'player_name', 'batter', 'pitcher', 'events',\n",
       "       'description', 'spin_dir', 'spin_rate_deprecated',\n",
       "       'break_angle_deprecated', 'break_length_deprecated', 'zone', 'des',\n",
       "       'game_type', 'stand', 'p_throws', 'home_team', 'away_team', 'type',\n",
       "       'hit_location', 'bb_type', 'balls', 'strikes', 'game_year', 'pfx_x',\n",
       "       'pfx_z', 'plate_x', 'plate_z', 'on_3b', 'on_2b', 'on_1b',\n",
       "       'outs_when_up', 'inning', 'inning_topbot', 'hc_x', 'hc_y',\n",
       "       'tfs_deprecated', 'tfs_zulu_deprecated', 'fielder_2', 'umpire', 'sv_id',\n",
       "       'vx0', 'vy0', 'vz0', 'ax', 'ay', 'az', 'sz_top', 'sz_bot',\n",
       "       'hit_distance_sc', 'launch_speed', 'launch_angle', 'effective_speed',\n",
       "       'release_spin_rate', 'release_extension', 'game_pk', 'pitcher.1',\n",
       "       'fielder_2.1', 'fielder_3', 'fielder_4', 'fielder_5', 'fielder_6',\n",
       "       'fielder_7', 'fielder_8', 'fielder_9', 'release_pos_y',\n",
       "       'estimated_ba_using_speedangle', 'estimated_woba_using_speedangle',\n",
       "       'woba_value', 'woba_denom', 'babip_value', 'iso_value',\n",
       "       'launch_speed_angle', 'at_bat_number', 'pitch_number', 'pitch_name',\n",
       "       'home_score', 'away_score', 'bat_score', 'fld_score', 'post_away_score',\n",
       "       'post_home_score', 'post_bat_score', 'post_fld_score',\n",
       "       'if_fielding_alignment', 'of_fielding_alignment', 'spin_axis',\n",
       "       'delta_home_win_exp', 'delta_run_exp'],\n",
       "      dtype='object')"
      ]
     },
     "execution_count": 4,
     "metadata": {},
     "output_type": "execute_result"
    }
   ],
   "source": [
    "playoff_sc_df.columns"
   ]
  },
  {
   "cell_type": "code",
   "execution_count": 5,
   "metadata": {},
   "outputs": [
    {
     "ename": "NameError",
     "evalue": "name 'plot_df' is not defined",
     "output_type": "error",
     "traceback": [
      "\u001b[0;31m---------------------------------------------------------------------------\u001b[0m",
      "\u001b[0;31mNameError\u001b[0m                                 Traceback (most recent call last)",
      "\u001b[0;32m<ipython-input-5-a38675263374>\u001b[0m in \u001b[0;36m<module>\u001b[0;34m\u001b[0m\n\u001b[0;32m----> 1\u001b[0;31m \u001b[0mplot_df\u001b[0m\u001b[0;34m.\u001b[0m\u001b[0mevents\u001b[0m\u001b[0;34m.\u001b[0m\u001b[0mvalue_counts\u001b[0m\u001b[0;34m(\u001b[0m\u001b[0;34m)\u001b[0m\u001b[0;34m\u001b[0m\u001b[0;34m\u001b[0m\u001b[0m\n\u001b[0m",
      "\u001b[0;31mNameError\u001b[0m: name 'plot_df' is not defined"
     ]
    }
   ],
   "source": [
    "plot_df.events.value_counts()"
   ]
  },
  {
   "cell_type": "code",
   "execution_count": null,
   "metadata": {},
   "outputs": [],
   "source": [
    "def simplified_events(event):\n",
    "    return {\n",
    "        \"home_run\" : \"Home Run\",\n",
    "        \"single\" : \"Single\",\n",
    "        \"double\" : \"Double\",\n",
    "        \"triple\" : \"Triple\"\n",
    "    }.get(event, \"Out(s)\")"
   ]
  },
  {
   "cell_type": "code",
   "execution_count": null,
   "metadata": {},
   "outputs": [],
   "source": [
    "plot_df = (\n",
    "    playoff_sc_df\n",
    "        .pipe(lambda df: df[df.description == \"hit_into_play\"])\n",
    "        .pipe(lambda df: df.dropna(subset=[\"launch_angle\"]))\n",
    "        .pipe(lambda df: df.assign(launch_rad= df.launch_angle.apply(math.radians)))\n",
    "        .pipe(lambda df: df.assign(simple_event= df.events.apply(simplified_events)))\n",
    ")"
   ]
  },
  {
   "cell_type": "code",
   "execution_count": null,
   "metadata": {},
   "outputs": [],
   "source": [
    "plot_df.head()"
   ]
  },
  {
   "cell_type": "code",
   "execution_count": null,
   "metadata": {},
   "outputs": [],
   "source": [
    "# let's sketch it out real quick\n",
    "plot_df.plot(kind=\"scatter\", x=\"launch_angle\", y=\"launch_speed\")"
   ]
  },
  {
   "cell_type": "code",
   "execution_count": null,
   "metadata": {},
   "outputs": [],
   "source": [
    "f, ax = plt.subplots(subplot_kw={'projection': 'polar'},figsize=(15,15))\n",
    "\n",
    "for event in plot_df.simple_event.unique():\n",
    "    sub_plot_df = plot_df.query(f\"simple_event == '{event}'\")\n",
    "    ax.scatter(sub_plot_df.launch_rad, sub_plot_df.launch_speed, label=event)\n",
    "\n",
    "    \n",
    "ax.annotate(\n",
    "    \"Judge Flyout\",\n",
    "    (math.radians(28),106.68),\n",
    "    size=16,\n",
    "    xytext = (150, 100),\n",
    "        textcoords=\"offset pixels\",\n",
    "        arrowprops=dict(\n",
    "                     arrowstyle=\"->\", lw=2)\n",
    ")\n",
    "\n",
    "ax.annotate(\n",
    "    \"Bregman Homerun\",\n",
    "    (math.radians(36), 91.8),\n",
    "    size=16,\n",
    "    xytext = (70, 300),\n",
    "        textcoords=\"offset pixels\",\n",
    "        arrowprops=dict(\n",
    "                     arrowstyle=\"->\", lw=2)\n",
    ")\n",
    "\n",
    "ax.annotate(\n",
    "    \"The Cleveland Special\",\n",
    "    (math.radians(56.6), 79),\n",
    "    size=16,\n",
    "    xytext = (-40, 200),\n",
    "        textcoords=\"offset pixels\",\n",
    "        arrowprops=dict(\n",
    "                     arrowstyle=\"->\", lw=2)\n",
    ")\n",
    "\n",
    "ax.add_patch(Ellipse(xy=(math.radians(55.5), 76), \n",
    "                     width=.07, \n",
    "                     height=5, fill=False, ls=\"-\", lw=3, color=\"k\"))\n",
    "\n",
    "    \n",
    "ax.set_thetamin(0)\n",
    "ax.set_thetamax(90)\n",
    "\n",
    "plt.title(\"Launch Angle and Exit Velocity of Batted Balls in 2022 Postseason\", size=32)\n",
    "plt.legend(loc=\"upper right\", fontsize=18)\n",
    "\n",
    "plt.tight_layout()\n",
    "plt.savefig(\"postseason_batted_balls.png\")"
   ]
  },
  {
   "cell_type": "code",
   "execution_count": null,
   "metadata": {},
   "outputs": [],
   "source": []
  }
 ],
 "metadata": {
  "kernelspec": {
   "display_name": "Python 3",
   "language": "python",
   "name": "python3"
  },
  "language_info": {
   "codemirror_mode": {
    "name": "ipython",
    "version": 3
   },
   "file_extension": ".py",
   "mimetype": "text/x-python",
   "name": "python",
   "nbconvert_exporter": "python",
   "pygments_lexer": "ipython3",
   "version": "3.7.9"
  }
 },
 "nbformat": 4,
 "nbformat_minor": 4
}
